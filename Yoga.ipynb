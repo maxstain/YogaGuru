{
 "cells": [
  {
   "metadata": {},
   "cell_type": "markdown",
   "source": "# 1. Import Libraries",
   "id": "3442ac6e3c5f9dcb"
  },
  {
   "metadata": {
    "ExecuteTime": {
     "end_time": "2025-07-11T19:12:33.503225Z",
     "start_time": "2025-07-11T19:12:26.885172Z"
    }
   },
   "cell_type": "code",
   "source": [
    "import os\n",
    "\n",
    "# Download the latest version\n",
    "os.system(\"pip install -r requirements.txt\")\n",
    "os.system(\"python -m pip install --upgrade certifi\")"
   ],
   "id": "d38fae153db9a803",
   "outputs": [
    {
     "data": {
      "text/plain": [
       "0"
      ]
     },
     "execution_count": 1,
     "metadata": {},
     "output_type": "execute_result"
    }
   ],
   "execution_count": 1
  },
  {
   "metadata": {},
   "cell_type": "markdown",
   "source": "# 2. Download Dataset",
   "id": "21710a469b35f723"
  },
  {
   "cell_type": "code",
   "id": "6efd0611-f209-4b8f-b8cd-299f4b4a4e28",
   "metadata": {
    "ExecuteTime": {
     "end_time": "2025-07-11T19:13:13.135627Z",
     "start_time": "2025-07-11T19:12:38.114204Z"
    }
   },
   "source": [
    "import kagglehub\n",
    "import shutil\n",
    "\n",
    "# Process dataset and train model\n",
    "dataset_path = kagglehub.dataset_download(\"niharika41298/yoga-poses-dataset\")\n",
    "shutil.move(dataset_path, \"./Dataset\")"
   ],
   "outputs": [
    {
     "name": "stderr",
     "output_type": "stream",
     "text": [
      "E:\\Projects\\DeepLearnin-YogaPose\\.venv\\Lib\\site-packages\\tqdm\\auto.py:21: TqdmWarning: IProgress not found. Please update jupyter and ipywidgets. See https://ipywidgets.readthedocs.io/en/stable/user_install.html\n",
      "  from .autonotebook import tqdm as notebook_tqdm\n"
     ]
    },
    {
     "name": "stdout",
     "output_type": "stream",
     "text": [
      "Downloading from https://www.kaggle.com/api/v1/datasets/download/niharika41298/yoga-poses-dataset?dataset_version_number=1...\n"
     ]
    },
    {
     "name": "stderr",
     "output_type": "stream",
     "text": [
      "100%|██████████| 288M/288M [00:24<00:00, 12.3MB/s] "
     ]
    },
    {
     "name": "stdout",
     "output_type": "stream",
     "text": [
      "Extracting files...\n"
     ]
    },
    {
     "name": "stderr",
     "output_type": "stream",
     "text": [
      "\n"
     ]
    },
    {
     "data": {
      "text/plain": [
       "'./Dataset\\\\1'"
      ]
     },
     "execution_count": 2,
     "metadata": {},
     "output_type": "execute_result"
    }
   ],
   "execution_count": 2
  },
  {
   "metadata": {},
   "cell_type": "markdown",
   "source": "# 3. Process Dataset",
   "id": "f9bcf9f97339b97c"
  },
  {
   "cell_type": "code",
   "id": "16931c8b-9598-4408-a831-ee1d4570fc27",
   "metadata": {
    "ExecuteTime": {
     "end_time": "2025-07-11T19:17:11.707989Z",
     "start_time": "2025-07-11T19:14:41.281626Z"
    }
   },
   "source": [
    "import os\n",
    "import cv2\n",
    "import numpy as np\n",
    "import pandas as pd\n",
    "import pickle\n",
    "from tqdm import tqdm\n",
    "import mediapipe as mp\n",
    "import matplotlib.pyplot as plt\n",
    "\n",
    "# Initialize MediaPipe Pose\n",
    "mp_pose = mp.solutions.pose\n",
    "pose = mp_pose.Pose(static_image_mode=True, min_detection_confidence=0.5)\n",
    "\n",
    "\n",
    "def calculate_angle(a, b, c):\n",
    "    \"\"\"Calculate the angle between three points\"\"\"\n",
    "    a, b, c = np.array(a), np.array(b), np.array(c)\n",
    "    ba = a - b\n",
    "    bc = c - b\n",
    "    cosine_angle = np.dot(ba, bc) / (np.linalg.norm(ba) * np.linalg.norm(bc))\n",
    "    return np.degrees(np.arccos(np.clip(cosine_angle, -1, 1)))\n",
    "\n",
    "\n",
    "def extract_features(image_path):\n",
    "    \"\"\"Extract both image and biomechanical features from a single image\"\"\"\n",
    "    img = cv2.imread(image_path)\n",
    "    if img is None:\n",
    "        return None\n",
    "\n",
    "    # Process image with MediaPipe\n",
    "    results = pose.process(cv2.cvtColor(img, cv2.COLOR_BGR2RGB))\n",
    "\n",
    "    if not results.pose_landmarks:\n",
    "        return None\n",
    "\n",
    "    # Get landmarks\n",
    "    landmarks = results.pose_landmarks.landmark\n",
    "\n",
    "    # Calculate key angles\n",
    "    points = {\n",
    "        'left_shoulder': [landmarks[11].x, landmarks[11].y],\n",
    "        'right_shoulder': [landmarks[12].x, landmarks[12].y],\n",
    "        'left_elbow': [landmarks[13].x, landmarks[13].y],\n",
    "        'right_elbow': [landmarks[14].x, landmarks[14].y],\n",
    "        'left_wrist': [landmarks[15].x, landmarks[15].y],\n",
    "        'right_wrist': [landmarks[16].x, landmarks[16].y],\n",
    "        'left_hip': [landmarks[23].x, landmarks[23].y],\n",
    "        'right_hip': [landmarks[24].x, landmarks[24].y],\n",
    "        'left_knee': [landmarks[25].x, landmarks[25].y],\n",
    "        'right_knee': [landmarks[26].x, landmarks[26].y],\n",
    "        'left_ankle': [landmarks[27].x, landmarks[27].y],\n",
    "        'right_ankle': [landmarks[28].x, landmarks[28].y]\n",
    "    }\n",
    "\n",
    "    angles = {\n",
    "        'left_elbow': calculate_angle(points['left_shoulder'], points['left_elbow'], points['left_wrist']),\n",
    "        'right_elbow': calculate_angle(points['right_shoulder'], points['right_elbow'], points['right_wrist']),\n",
    "        'left_shoulder': calculate_angle(points['left_elbow'], points['left_shoulder'], points['left_hip']),\n",
    "        'right_shoulder': calculate_angle(points['right_elbow'], points['right_shoulder'], points['right_hip']),\n",
    "        'left_hip': calculate_angle(points['left_shoulder'], points['left_hip'], points['left_knee']),\n",
    "        'right_hip': calculate_angle(points['right_shoulder'], points['right_hip'], points['right_knee']),\n",
    "        'left_knee': calculate_angle(points['left_hip'], points['left_knee'], points['left_ankle']),\n",
    "        'right_knee': calculate_angle(points['right_hip'], points['right_knee'], points['right_ankle']),\n",
    "        'spine': calculate_angle(points['left_shoulder'], points['left_hip'], points['left_ankle'])\n",
    "    }\n",
    "\n",
    "    # Prepare image for CNN\n",
    "    img_resized = cv2.resize(img, (224, 224))\n",
    "    img_normalized = img_resized / 255.0\n",
    "\n",
    "    return {\n",
    "        'image': img_normalized,\n",
    "        'angles': list(angles.values()),\n",
    "        'landmarks': points\n",
    "    }\n",
    "\n",
    "\n",
    "def process_dataset(dataset_path):\n",
    "    \"\"\"Process the entire dataset and save features\"\"\"\n",
    "    data = []\n",
    "    pose_classes = [d for d in os.listdir(dataset_path)\n",
    "                    if os.path.isdir(os.path.join(dataset_path, d))]\n",
    "\n",
    "    for pose_class in pose_classes:\n",
    "        class_dir = os.path.join(dataset_path, pose_class)\n",
    "        image_files = [f for f in os.listdir(class_dir)\n",
    "                       if f.lower().endswith(('.png', '.jpg', '.jpeg'))]\n",
    "\n",
    "        for img_file in tqdm(image_files, desc=f\"Processing {pose_class}\"):\n",
    "            img_path = os.path.join(class_dir, img_file)\n",
    "            features = extract_features(img_path)\n",
    "\n",
    "            if features is not None:\n",
    "                features['class'] = pose_class\n",
    "                data.append(features)\n",
    "\n",
    "    # Convert to DataFrame\n",
    "    df = pd.DataFrame(data)\n",
    "\n",
    "    # Bar Chart: Number of Images per Pose Class\n",
    "    class_counts = df['class'].value_counts()\n",
    "    plt.figure(figsize=(8, 5))\n",
    "    plt.bar(class_counts.index, class_counts.values, color='skyblue')\n",
    "    plt.xlabel('Pose Class')\n",
    "    plt.ylabel('Number of Images')\n",
    "    plt.title('Images per Pose Class')\n",
    "    plt.show()\n",
    "\n",
    "    # Histogram: Distribution of a Specific Angle (e.g., left_knee)\n",
    "    left_knee_angles = [angles[6] for angles in df['angles']]\n",
    "    plt.figure(figsize=(8, 5))\n",
    "    plt.hist(left_knee_angles, bins=20, color='orange', edgecolor='black')\n",
    "    plt.xlabel('Left Knee Angle (degrees)')\n",
    "    plt.ylabel('Frequency')\n",
    "    plt.title('Distribution of Left Knee Angles')\n",
    "    plt.show()\n",
    "\n",
    "    # Pie Chart: Proportion of Each Pose Class\n",
    "    plt.figure(figsize=(6, 6))\n",
    "    plt.pie(class_counts.values, labels=class_counts.index, autopct='%1.1f%%', startangle=140)\n",
    "    plt.title('Pose Class Distribution')\n",
    "    plt.axis('equal')\n",
    "    plt.show()\n",
    "\n",
    "    # Save processed data\n",
    "    df.to_pickle(\"./Model/yoga_dataset_processed.pkl\")\n",
    "\n",
    "    # Calculate pose standards\n",
    "    pose_standards = df.groupby('class')['angles'].apply(\n",
    "        lambda x: {\n",
    "            'median': np.median(np.vstack(x), axis=0),\n",
    "            'std': np.std(np.vstack(x), axis=0)\n",
    "        }\n",
    "    ).to_dict()\n",
    "\n",
    "    with open('./Model/pose_standards.pkl', 'wb') as f:\n",
    "        pickle.dump(pose_standards, f)\n",
    "\n",
    "    return df, pose_standards\n",
    "\n",
    "\n",
    "if __name__ == \"__main__\":\n",
    "    dataset_path = \"Dataset/1/DATASET/TRAIN\"\n",
    "    df, standards = process_dataset(dataset_path)"
   ],
   "outputs": [
    {
     "name": "stderr",
     "output_type": "stream",
     "text": [
      "Processing downdog: 100%|██████████| 222/222 [00:25<00:00,  8.82it/s]\n",
      "Processing goddess: 100%|██████████| 180/180 [00:20<00:00,  8.60it/s]\n",
      "Processing plank: 100%|██████████| 266/266 [00:30<00:00,  8.64it/s]\n",
      "Processing tree: 100%|██████████| 160/160 [00:19<00:00,  8.06it/s]\n",
      "Processing warrior2: 100%|██████████| 252/252 [00:29<00:00,  8.46it/s]\n"
     ]
    },
    {
     "data": {
      "text/plain": [
       "<Figure size 800x500 with 1 Axes>"
      ],
      "image/png": "[encoded data removed]"
     },
     "metadata": {},
     "output_type": "display_data"
    },
    {
     "data": {
      "text/plain": [
       "<Figure size 800x500 with 1 Axes>"
      ],
      "image/png": "[encoded data removed]"
     },
     "metadata": {},
     "output_type": "display_data"
    },
    {
     "data": {
      "text/plain": [
       "<Figure size 600x600 with 1 Axes>"
      ],
      "image/png": "[encoded data removed]"
     },
     "metadata": {},
     "output_type": "display_data"
    }
   ],
   "execution_count": 3
  },
  {
   "metadata": {},
   "cell_type": "markdown",
   "source": [
    "# 4. Modeling\n",
    "## Create a Hybrid Model"
   ],
   "id": "218da23fc16d903e"
  },
  {
   "cell_type": "code",
   "id": "0c6c882d-fd37-4189-ad0c-45c03834a6a8",
   "metadata": {
    "ExecuteTime": {
     "end_time": "2025-07-11T19:21:49.421768Z",
     "start_time": "2025-07-11T19:17:32.405355Z"
    }
   },
   "source": [
    "import tensorflow as tf\n",
    "from tensorflow.keras import layers, models\n",
    "from tensorflow.keras.callbacks import EarlyStopping, ModelCheckpoint, ReduceLROnPlateau\n",
    "import numpy as np\n",
    "import pandas as pd\n",
    "from sklearn.model_selection import train_test_split\n",
    "import pickle\n",
    "import matplotlib.pyplot as plt\n",
    "\n",
    "\n",
    "def create_hybrid_model(num_classes=5):\n",
    "    \"\"\"Create a model that combines CNN and biomechanical features\"\"\"\n",
    "    # Image branch (CNN)\n",
    "    image_input = layers.Input(shape=(224, 224, 3), name='image_input')\n",
    "\n",
    "    x = layers.Conv2D(32, (3, 3), activation='relu')(image_input)\n",
    "    x = layers.MaxPooling2D((2, 2))(x)\n",
    "    x = layers.Conv2D(64, (3, 3), activation='relu')(x)\n",
    "    x = layers.MaxPooling2D((2, 2))(x)\n",
    "    x = layers.Conv2D(128, (3, 3), activation='relu')(x)\n",
    "    x = layers.GlobalAveragePooling2D()(x)\n",
    "\n",
    "    # Angle branch\n",
    "    angle_input = layers.Input(shape=(9,), name='angle_input')\n",
    "    a = layers.Dense(32, activation='relu')(angle_input)\n",
    "\n",
    "    # Combined features\n",
    "    combined = layers.concatenate([x, a])\n",
    "\n",
    "    # Classifier\n",
    "    z = layers.Dense(128, activation='relu')(combined)\n",
    "    z = layers.Dropout(0.5)(z)\n",
    "    output = layers.Dense(num_classes, activation='softmax')(z)\n",
    "\n",
    "    return models.Model(inputs=[image_input, angle_input], outputs=output)\n",
    "\n",
    "\n",
    "def prepare_data(df):\n",
    "    \"\"\"Prepare data for training\"\"\"\n",
    "    # Convert images to array\n",
    "    X_images = np.array([x for x in df['image']])\n",
    "\n",
    "    # Convert angles to array\n",
    "    X_angles = np.array([x for x in df['angles']])\n",
    "\n",
    "    # Convert labels to one-hot\n",
    "    class_to_idx = {cls: i for i, cls in enumerate(df['class'].unique())}\n",
    "    y = tf.keras.utils.to_categorical(df['class'].map(class_to_idx))\n",
    "\n",
    "    return X_images, X_angles, y, class_to_idx\n",
    "\n",
    "\n",
    "def train_model():\n",
    "    # Load processed data\n",
    "    df = pd.read_pickle('Model/yoga_dataset_processed.pkl')\n",
    "\n",
    "    # Prepare data\n",
    "    X_img, X_ang, y, class_to_idx = prepare_data(df)\n",
    "\n",
    "    # Split data - USE THE SAME VARIABLE NAMES RETURNED FROM prepare_data()\n",
    "    (X_img_train, X_img_val,\n",
    "     X_ang_train, X_ang_val,\n",
    "     y_train, y_val) = train_test_split(X_img, X_ang, y, test_size=0.2)\n",
    "\n",
    "    # Create model\n",
    "    model = create_hybrid_model(num_classes=len(class_to_idx))\n",
    "\n",
    "    # Compile\n",
    "    model.compile(\n",
    "        optimizer='adam',\n",
    "        loss='categorical_crossentropy',\n",
    "        metrics=['accuracy']\n",
    "    )\n",
    "\n",
    "    # Define callbacks\n",
    "    training_callbacks = [\n",
    "        EarlyStopping(patience=5, restore_best_weights=True),\n",
    "        ModelCheckpoint('best_model.h5', save_best_only=True),\n",
    "        ReduceLROnPlateau(factor=0.1, patience=3)\n",
    "    ]\n",
    "\n",
    "    # Train\n",
    "    history = model.fit(\n",
    "        x={'image_input': X_img_train, 'angle_input': X_ang_train},\n",
    "        y=y_train,\n",
    "        validation_data=({'image_input': X_img_val, 'angle_input': X_ang_val}, y_val),\n",
    "        epochs=10,\n",
    "        batch_size=32,\n",
    "        callbacks=training_callbacks\n",
    "    )\n",
    "\n",
    "    plt.figure(figsize=(12, 5))\n",
    "    plt.subplot(1, 2, 1)\n",
    "    plt.plot(history.history['loss'], label='Train Loss')\n",
    "    plt.plot(history.history['val_loss'], label='Val Loss')\n",
    "    plt.legend()\n",
    "    plt.title('Loss')\n",
    "\n",
    "    plt.subplot(1, 2, 2)\n",
    "    plt.plot(history.history['accuracy'], label='Train Acc')\n",
    "    plt.plot(history.history['val_accuracy'], label='Val Acc')\n",
    "    plt.legend()\n",
    "    plt.title('Accuracy')\n",
    "\n",
    "    plt.show()\n",
    "\n",
    "    # Save class mapping\n",
    "    idx_to_class = {v: k for k, v in class_to_idx.items()}  # Reverse mapping\n",
    "    with open('Model/class_mapping.pkl', 'wb') as f:\n",
    "        pickle.dump(idx_to_class, f)  # New: {0:'downdog', 1:'warrior'}\n",
    "\n",
    "    val_loss, val_acc = model.evaluate(\n",
    "        {'image_input': X_img_val, 'angle_input': X_ang_val},\n",
    "        y_val,\n",
    "        verbose=0\n",
    "    )\n",
    "    print(f\"Final Validation Accuracy: {val_acc * 100:.2f}%\")\n",
    "    print(f\"Final Validation Loss: {val_loss * 100:.2f}%\")\n",
    "\n",
    "    return model, history\n",
    "\n",
    "\n",
    "if __name__ == \"__main__\":\n",
    "    model, history = train_model()"
   ],
   "outputs": [
    {
     "name": "stdout",
     "output_type": "stream",
     "text": [
      "Epoch 1/10\n",
      "\u001B[1m26/26\u001B[0m \u001B[32m━━━━━━━━━━━━━━━━━━━━\u001B[0m\u001B[37m\u001B[0m \u001B[1m0s\u001B[0m 770ms/step - accuracy: 0.2366 - loss: 43.0669"
     ]
    },
    {
     "name": "stderr",
     "output_type": "stream",
     "text": [
      "WARNING:absl:You are saving your model as an HDF5 file via `model.save()` or `keras.saving.save_model(model)`. This file format is considered legacy. We recommend using instead the native Keras format, e.g. `model.save('my_model.keras')` or `keras.saving.save_model(model, 'my_model.keras')`. \n"
     ]
    },
    {
     "name": "stdout",
     "output_type": "stream",
     "text": [
      "\u001B[1m26/26\u001B[0m \u001B[32m━━━━━━━━━━━━━━━━━━━━\u001B[0m\u001B[37m\u001B[0m \u001B[1m47s\u001B[0m 2s/step - accuracy: 0.2375 - loss: 42.7021 - val_accuracy: 0.4593 - val_loss: 6.4513 - learning_rate: 0.0010\n",
      "Epoch 2/10\n",
      "\u001B[1m26/26\u001B[0m \u001B[32m━━━━━━━━━━━━━━━━━━━━\u001B[0m\u001B[37m\u001B[0m \u001B[1m0s\u001B[0m 812ms/step - accuracy: 0.4171 - loss: 11.1872"
     ]
    },
    {
     "name": "stderr",
     "output_type": "stream",
     "text": [
      "WARNING:absl:You are saving your model as an HDF5 file via `model.save()` or `keras.saving.save_model(model)`. This file format is considered legacy. We recommend using instead the native Keras format, e.g. `model.save('my_model.keras')` or `keras.saving.save_model(model, 'my_model.keras')`. \n"
     ]
    },
    {
     "name": "stdout",
     "output_type": "stream",
     "text": [
      "\u001B[1m26/26\u001B[0m \u001B[32m━━━━━━━━━━━━━━━━━━━━\u001B[0m\u001B[37m\u001B[0m \u001B[1m23s\u001B[0m 881ms/step - accuracy: 0.4182 - loss: 11.0471 - val_accuracy: 0.7368 - val_loss: 1.2967 - learning_rate: 0.0010\n",
      "Epoch 3/10\n",
      "\u001B[1m26/26\u001B[0m \u001B[32m━━━━━━━━━━━━━━━━━━━━\u001B[0m\u001B[37m\u001B[0m \u001B[1m0s\u001B[0m 801ms/step - accuracy: 0.5657 - loss: 1.6975"
     ]
    },
    {
     "name": "stderr",
     "output_type": "stream",
     "text": [
      "WARNING:absl:You are saving your model as an HDF5 file via `model.save()` or `keras.saving.save_model(model)`. This file format is considered legacy. We recommend using instead the native Keras format, e.g. `model.save('my_model.keras')` or `keras.saving.save_model(model, 'my_model.keras')`. \n"
     ]
    },
    {
     "name": "stdout",
     "output_type": "stream",
     "text": [
      "\u001B[1m26/26\u001B[0m \u001B[32m━━━━━━━━━━━━━━━━━━━━\u001B[0m\u001B[37m\u001B[0m \u001B[1m22s\u001B[0m 853ms/step - accuracy: 0.5657 - loss: 1.6938 - val_accuracy: 0.6172 - val_loss: 1.0628 - learning_rate: 0.0010\n",
      "Epoch 4/10\n",
      "\u001B[1m26/26\u001B[0m \u001B[32m━━━━━━━━━━━━━━━━━━━━\u001B[0m\u001B[37m\u001B[0m \u001B[1m0s\u001B[0m 739ms/step - accuracy: 0.5810 - loss: 1.1470"
     ]
    },
    {
     "name": "stderr",
     "output_type": "stream",
     "text": [
      "WARNING:absl:You are saving your model as an HDF5 file via `model.save()` or `keras.saving.save_model(model)`. This file format is considered legacy. We recommend using instead the native Keras format, e.g. `model.save('my_model.keras')` or `keras.saving.save_model(model, 'my_model.keras')`. \n"
     ]
    },
    {
     "name": "stdout",
     "output_type": "stream",
     "text": [
      "\u001B[1m26/26\u001B[0m \u001B[32m━━━━━━━━━━━━━━━━━━━━\u001B[0m\u001B[37m\u001B[0m \u001B[1m21s\u001B[0m 790ms/step - accuracy: 0.5803 - loss: 1.1471 - val_accuracy: 0.6651 - val_loss: 0.9757 - learning_rate: 0.0010\n",
      "Epoch 5/10\n",
      "\u001B[1m26/26\u001B[0m \u001B[32m━━━━━━━━━━━━━━━━━━━━\u001B[0m\u001B[37m\u001B[0m \u001B[1m0s\u001B[0m 774ms/step - accuracy: 0.5769 - loss: 1.1311"
     ]
    },
    {
     "name": "stderr",
     "output_type": "stream",
     "text": [
      "WARNING:absl:You are saving your model as an HDF5 file via `model.save()` or `keras.saving.save_model(model)`. This file format is considered legacy. We recommend using instead the native Keras format, e.g. `model.save('my_model.keras')` or `keras.saving.save_model(model, 'my_model.keras')`. \n"
     ]
    },
    {
     "name": "stdout",
     "output_type": "stream",
     "text": [
      "\u001B[1m26/26\u001B[0m \u001B[32m━━━━━━━━━━━━━━━━━━━━\u001B[0m\u001B[37m\u001B[0m \u001B[1m21s\u001B[0m 824ms/step - accuracy: 0.5776 - loss: 1.1295 - val_accuracy: 0.6890 - val_loss: 0.9594 - learning_rate: 0.0010\n",
      "Epoch 6/10\n",
      "\u001B[1m26/26\u001B[0m \u001B[32m━━━━━━━━━━━━━━━━━━━━\u001B[0m\u001B[37m\u001B[0m \u001B[1m21s\u001B[0m 796ms/step - accuracy: 0.6322 - loss: 0.9878 - val_accuracy: 0.6986 - val_loss: 0.9659 - learning_rate: 0.0010\n",
      "Epoch 7/10\n",
      "\u001B[1m26/26\u001B[0m \u001B[32m━━━━━━━━━━━━━━━━━━━━\u001B[0m\u001B[37m\u001B[0m \u001B[1m0s\u001B[0m 738ms/step - accuracy: 0.6110 - loss: 1.0638"
     ]
    },
    {
     "name": "stderr",
     "output_type": "stream",
     "text": [
      "WARNING:absl:You are saving your model as an HDF5 file via `model.save()` or `keras.saving.save_model(model)`. This file format is considered legacy. We recommend using instead the native Keras format, e.g. `model.save('my_model.keras')` or `keras.saving.save_model(model, 'my_model.keras')`. \n"
     ]
    },
    {
     "name": "stdout",
     "output_type": "stream",
     "text": [
      "\u001B[1m26/26\u001B[0m \u001B[32m━━━━━━━━━━━━━━━━━━━━\u001B[0m\u001B[37m\u001B[0m \u001B[1m21s\u001B[0m 798ms/step - accuracy: 0.6112 - loss: 1.0630 - val_accuracy: 0.7321 - val_loss: 0.9145 - learning_rate: 0.0010\n",
      "Epoch 8/10\n",
      "\u001B[1m26/26\u001B[0m \u001B[32m━━━━━━━━━━━━━━━━━━━━\u001B[0m\u001B[37m\u001B[0m \u001B[1m0s\u001B[0m 751ms/step - accuracy: 0.6473 - loss: 0.9244"
     ]
    },
    {
     "name": "stderr",
     "output_type": "stream",
     "text": [
      "WARNING:absl:You are saving your model as an HDF5 file via `model.save()` or `keras.saving.save_model(model)`. This file format is considered legacy. We recommend using instead the native Keras format, e.g. `model.save('my_model.keras')` or `keras.saving.save_model(model, 'my_model.keras')`. \n"
     ]
    },
    {
     "name": "stdout",
     "output_type": "stream",
     "text": [
      "\u001B[1m26/26\u001B[0m \u001B[32m━━━━━━━━━━━━━━━━━━━━\u001B[0m\u001B[37m\u001B[0m \u001B[1m21s\u001B[0m 803ms/step - accuracy: 0.6469 - loss: 0.9252 - val_accuracy: 0.6938 - val_loss: 0.9129 - learning_rate: 0.0010\n",
      "Epoch 9/10\n",
      "\u001B[1m26/26\u001B[0m \u001B[32m━━━━━━━━━━━━━━━━━━━━\u001B[0m\u001B[37m\u001B[0m \u001B[1m0s\u001B[0m 728ms/step - accuracy: 0.6536 - loss: 0.8771"
     ]
    },
    {
     "name": "stderr",
     "output_type": "stream",
     "text": [
      "WARNING:absl:You are saving your model as an HDF5 file via `model.save()` or `keras.saving.save_model(model)`. This file format is considered legacy. We recommend using instead the native Keras format, e.g. `model.save('my_model.keras')` or `keras.saving.save_model(model, 'my_model.keras')`. \n"
     ]
    },
    {
     "name": "stdout",
     "output_type": "stream",
     "text": [
      "\u001B[1m26/26\u001B[0m \u001B[32m━━━━━━━━━━━━━━━━━━━━\u001B[0m\u001B[37m\u001B[0m \u001B[1m20s\u001B[0m 780ms/step - accuracy: 0.6537 - loss: 0.8788 - val_accuracy: 0.7129 - val_loss: 0.8826 - learning_rate: 0.0010\n",
      "Epoch 10/10\n",
      "\u001B[1m26/26\u001B[0m \u001B[32m━━━━━━━━━━━━━━━━━━━━\u001B[0m\u001B[37m\u001B[0m \u001B[1m20s\u001B[0m 775ms/step - accuracy: 0.6360 - loss: 0.9243 - val_accuracy: 0.7129 - val_loss: 0.8855 - learning_rate: 0.0010\n"
     ]
    },
    {
     "data": {
      "text/plain": [
       "<Figure size 1200x500 with 2 Axes>"
      ],
      "image/png": "[encoded data removed]"
     },
     "metadata": {},
     "output_type": "display_data"
    },
    {
     "name": "stdout",
     "output_type": "stream",
     "text": [
      "Final Validation Accuracy: 71.29%\n",
      "Final Validation Loss: 88.26%\n"
     ]
    }
   ],
   "execution_count": 4
  },
  {
   "metadata": {},
   "cell_type": "markdown",
   "source": "## Trying pre-trained model 1 (MobileNetV2)",
   "id": "93cf11ec25403c85"
  },
  {
   "metadata": {
    "ExecuteTime": {
     "end_time": "2025-07-11T19:27:14.574205Z",
     "start_time": "2025-07-11T19:21:56.165010Z"
    }
   },
   "cell_type": "code",
   "source": [
    "import tensorflow as tf\n",
    "from tensorflow.keras import layers, models\n",
    "def create_mobilenet_model(num_classes=5):\n",
    "    \"\"\"Create a model using MobileNetV2 as the base\"\"\"\n",
    "    base_model = tf.keras.applications.MobileNetV2(\n",
    "        input_shape=(224, 224, 3),\n",
    "        include_top=False,\n",
    "        weights='imagenet'\n",
    "    )\n",
    "    base_model.trainable = False  # Freeze the base model\n",
    "\n",
    "    image_input = layers.Input(shape=(224, 224, 3), name='image_input')\n",
    "    x = base_model(image_input)\n",
    "    x = layers.GlobalAveragePooling2D()(x)\n",
    "\n",
    "    angle_input = layers.Input(shape=(9,), name='angle_input')\n",
    "    a = layers.Dense(32, activation='relu')(angle_input)\n",
    "\n",
    "    combined = layers.concatenate([x, a])\n",
    "    z = layers.Dense(128, activation='relu')(combined)\n",
    "    z = layers.Dropout(0.5)(z)\n",
    "    output = layers.Dense(num_classes, activation='softmax')(z)\n",
    "\n",
    "    return models.Model(inputs=[image_input, angle_input], outputs=output)\n",
    "\n",
    "def train_mobilenet_model():\n",
    "    # Load processed data\n",
    "    df = pd.read_pickle('Model/yoga_dataset_processed.pkl')\n",
    "\n",
    "    # Prepare data\n",
    "    X_img, X_ang, y, class_to_idx = prepare_data(df)\n",
    "\n",
    "    # Split data\n",
    "    (X_img_train, X_img_val,\n",
    "     X_ang_train, X_ang_val,\n",
    "     y_train, y_val) = train_test_split(X_img, X_ang, y, test_size=0.2)\n",
    "\n",
    "    # Create model\n",
    "    model = create_mobilenet_model(num_classes=len(class_to_idx))\n",
    "\n",
    "    # Compile\n",
    "    model.compile(\n",
    "        optimizer='adam',\n",
    "        loss='categorical_crossentropy',\n",
    "        metrics=['accuracy']\n",
    "    )\n",
    "\n",
    "    # Define callbacks\n",
    "    training_callbacks = [\n",
    "        EarlyStopping(patience=5, restore_best_weights=True),\n",
    "        ModelCheckpoint('Model/mobilenet_best_model.h5', save_best_only=True),\n",
    "        ReduceLROnPlateau(factor=0.1, patience=3)\n",
    "    ]\n",
    "\n",
    "    # Train\n",
    "    history = model.fit(\n",
    "        x={'image_input': X_img_train, 'angle_input': X_ang_train},\n",
    "        y=y_train,\n",
    "        validation_data=({'image_input': X_img_val, 'angle_input': X_ang_val}, y_val),\n",
    "        epochs=10,\n",
    "        batch_size=32,\n",
    "        callbacks=training_callbacks\n",
    "    )\n",
    "\n",
    "    plt.figure(figsize=(12, 5))\n",
    "    plt.subplot(1, 2, 1)\n",
    "    plt.plot(history.history['loss'], label='Train Loss')\n",
    "    plt.plot(history.history['val_loss'], label='Val Loss')\n",
    "    plt.legend()\n",
    "    plt.title('Loss')\n",
    "\n",
    "    plt.subplot(1, 2, 2)\n",
    "    plt.plot(history.history['accuracy'], label='Train Acc')\n",
    "    plt.plot(history.history['val_accuracy'], label='Val Acc')\n",
    "    plt.legend()\n",
    "    plt.title('Accuracy')\n",
    "\n",
    "    plt.show()\n",
    "\n",
    "    # Save class mapping\n",
    "    idx_to_class = {v: k for k, v in class_to_idx.items()}  # Reverse mapping\n",
    "    with open('Model/class_mapping.pkl', 'wb') as f:\n",
    "        pickle.dump(idx_to_class, f)  # New: {0:'downdog', 1:'warrior'}\n",
    "\n",
    "    val_loss, val_acc = model.evaluate(\n",
    "        {'image_input': X_img_val, 'angle_input': X_ang_val},\n",
    "        y_val,\n",
    "        verbose=0\n",
    "    )\n",
    "    print(f\"Final Validation Accuracy: {val_acc * 100:.2f}%\")\n",
    "    print(f\"Final Validation Loss: {val_loss * 100:.2f}%\")\n",
    "    return model, history\n",
    "\n",
    "if __name__ == \"__main__\":\n",
    "    model, history = train_mobilenet_model()\n",
    "    # Save the model\n",
    "    model.save('Model/mobilenet_best_model.h5')"
   ],
   "id": "e12538f997c166cb",
   "outputs": [
    {
     "name": "stdout",
     "output_type": "stream",
     "text": [
      "Epoch 1/10\n",
      "\u001B[1m26/26\u001B[0m \u001B[32m━━━━━━━━━━━━━━━━━━━━\u001B[0m\u001B[37m\u001B[0m \u001B[1m0s\u001B[0m 898ms/step - accuracy: 0.3047 - loss: 10.8484"
     ]
    },
    {
     "name": "stderr",
     "output_type": "stream",
     "text": [
      "WARNING:absl:You are saving your model as an HDF5 file via `model.save()` or `keras.saving.save_model(model)`. This file format is considered legacy. We recommend using instead the native Keras format, e.g. `model.save('my_model.keras')` or `keras.saving.save_model(model, 'my_model.keras')`. \n"
     ]
    },
    {
     "name": "stdout",
     "output_type": "stream",
     "text": [
      "\u001B[1m26/26\u001B[0m \u001B[32m━━━━━━━━━━━━━━━━━━━━\u001B[0m\u001B[37m\u001B[0m \u001B[1m43s\u001B[0m 1s/step - accuracy: 0.3095 - loss: 10.6863 - val_accuracy: 0.7703 - val_loss: 0.6941 - learning_rate: 0.0010\n",
      "Epoch 2/10\n",
      "\u001B[1m26/26\u001B[0m \u001B[32m━━━━━━━━━━━━━━━━━━━━\u001B[0m\u001B[37m\u001B[0m \u001B[1m0s\u001B[0m 881ms/step - accuracy: 0.6699 - loss: 1.2613"
     ]
    },
    {
     "name": "stderr",
     "output_type": "stream",
     "text": [
      "WARNING:absl:You are saving your model as an HDF5 file via `model.save()` or `keras.saving.save_model(model)`. This file format is considered legacy. We recommend using instead the native Keras format, e.g. `model.save('my_model.keras')` or `keras.saving.save_model(model, 'my_model.keras')`. \n"
     ]
    },
    {
     "name": "stdout",
     "output_type": "stream",
     "text": [
      "\u001B[1m26/26\u001B[0m \u001B[32m━━━━━━━━━━━━━━━━━━━━\u001B[0m\u001B[37m\u001B[0m \u001B[1m29s\u001B[0m 1s/step - accuracy: 0.6708 - loss: 1.2570 - val_accuracy: 0.9043 - val_loss: 0.3866 - learning_rate: 0.0010\n",
      "Epoch 3/10\n",
      "\u001B[1m26/26\u001B[0m \u001B[32m━━━━━━━━━━━━━━━━━━━━\u001B[0m\u001B[37m\u001B[0m \u001B[1m0s\u001B[0m 858ms/step - accuracy: 0.7574 - loss: 0.8142"
     ]
    },
    {
     "name": "stderr",
     "output_type": "stream",
     "text": [
      "WARNING:absl:You are saving your model as an HDF5 file via `model.save()` or `keras.saving.save_model(model)`. This file format is considered legacy. We recommend using instead the native Keras format, e.g. `model.save('my_model.keras')` or `keras.saving.save_model(model, 'my_model.keras')`. \n"
     ]
    },
    {
     "name": "stdout",
     "output_type": "stream",
     "text": [
      "\u001B[1m26/26\u001B[0m \u001B[32m━━━━━━━━━━━━━━━━━━━━\u001B[0m\u001B[37m\u001B[0m \u001B[1m28s\u001B[0m 1s/step - accuracy: 0.7577 - loss: 0.8125 - val_accuracy: 0.9091 - val_loss: 0.3079 - learning_rate: 0.0010\n",
      "Epoch 4/10\n",
      "\u001B[1m26/26\u001B[0m \u001B[32m━━━━━━━━━━━━━━━━━━━━\u001B[0m\u001B[37m\u001B[0m \u001B[1m0s\u001B[0m 870ms/step - accuracy: 0.8334 - loss: 0.5394"
     ]
    },
    {
     "name": "stderr",
     "output_type": "stream",
     "text": [
      "WARNING:absl:You are saving your model as an HDF5 file via `model.save()` or `keras.saving.save_model(model)`. This file format is considered legacy. We recommend using instead the native Keras format, e.g. `model.save('my_model.keras')` or `keras.saving.save_model(model, 'my_model.keras')`. \n"
     ]
    },
    {
     "name": "stdout",
     "output_type": "stream",
     "text": [
      "\u001B[1m26/26\u001B[0m \u001B[32m━━━━━━━━━━━━━━━━━━━━\u001B[0m\u001B[37m\u001B[0m \u001B[1m28s\u001B[0m 1s/step - accuracy: 0.8336 - loss: 0.5388 - val_accuracy: 0.9043 - val_loss: 0.2892 - learning_rate: 0.0010\n",
      "Epoch 5/10\n",
      "\u001B[1m26/26\u001B[0m \u001B[32m━━━━━━━━━━━━━━━━━━━━\u001B[0m\u001B[37m\u001B[0m \u001B[1m0s\u001B[0m 858ms/step - accuracy: 0.8481 - loss: 0.4689"
     ]
    },
    {
     "name": "stderr",
     "output_type": "stream",
     "text": [
      "WARNING:absl:You are saving your model as an HDF5 file via `model.save()` or `keras.saving.save_model(model)`. This file format is considered legacy. We recommend using instead the native Keras format, e.g. `model.save('my_model.keras')` or `keras.saving.save_model(model, 'my_model.keras')`. \n"
     ]
    },
    {
     "name": "stdout",
     "output_type": "stream",
     "text": [
      "\u001B[1m26/26\u001B[0m \u001B[32m━━━━━━━━━━━━━━━━━━━━\u001B[0m\u001B[37m\u001B[0m \u001B[1m28s\u001B[0m 1s/step - accuracy: 0.8485 - loss: 0.4685 - val_accuracy: 0.9330 - val_loss: 0.2510 - learning_rate: 0.0010\n",
      "Epoch 6/10\n",
      "\u001B[1m26/26\u001B[0m \u001B[32m━━━━━━━━━━━━━━━━━━━━\u001B[0m\u001B[37m\u001B[0m \u001B[1m0s\u001B[0m 757ms/step - accuracy: 0.8664 - loss: 0.4587"
     ]
    },
    {
     "name": "stderr",
     "output_type": "stream",
     "text": [
      "WARNING:absl:You are saving your model as an HDF5 file via `model.save()` or `keras.saving.save_model(model)`. This file format is considered legacy. We recommend using instead the native Keras format, e.g. `model.save('my_model.keras')` or `keras.saving.save_model(model, 'my_model.keras')`. \n"
     ]
    },
    {
     "name": "stdout",
     "output_type": "stream",
     "text": [
      "\u001B[1m26/26\u001B[0m \u001B[32m━━━━━━━━━━━━━━━━━━━━\u001B[0m\u001B[37m\u001B[0m \u001B[1m25s\u001B[0m 960ms/step - accuracy: 0.8664 - loss: 0.4586 - val_accuracy: 0.9282 - val_loss: 0.2483 - learning_rate: 0.0010\n",
      "Epoch 7/10\n",
      "\u001B[1m26/26\u001B[0m \u001B[32m━━━━━━━━━━━━━━━━━━━━\u001B[0m\u001B[37m\u001B[0m \u001B[1m0s\u001B[0m 764ms/step - accuracy: 0.8552 - loss: 0.4501"
     ]
    },
    {
     "name": "stderr",
     "output_type": "stream",
     "text": [
      "WARNING:absl:You are saving your model as an HDF5 file via `model.save()` or `keras.saving.save_model(model)`. This file format is considered legacy. We recommend using instead the native Keras format, e.g. `model.save('my_model.keras')` or `keras.saving.save_model(model, 'my_model.keras')`. \n"
     ]
    },
    {
     "name": "stdout",
     "output_type": "stream",
     "text": [
      "\u001B[1m26/26\u001B[0m \u001B[32m━━━━━━━━━━━━━━━━━━━━\u001B[0m\u001B[37m\u001B[0m \u001B[1m25s\u001B[0m 962ms/step - accuracy: 0.8555 - loss: 0.4494 - val_accuracy: 0.9378 - val_loss: 0.1893 - learning_rate: 0.0010\n",
      "Epoch 8/10\n",
      "\u001B[1m26/26\u001B[0m \u001B[32m━━━━━━━━━━━━━━━━━━━━\u001B[0m\u001B[37m\u001B[0m \u001B[1m0s\u001B[0m 763ms/step - accuracy: 0.8771 - loss: 0.3815"
     ]
    },
    {
     "name": "stderr",
     "output_type": "stream",
     "text": [
      "WARNING:absl:You are saving your model as an HDF5 file via `model.save()` or `keras.saving.save_model(model)`. This file format is considered legacy. We recommend using instead the native Keras format, e.g. `model.save('my_model.keras')` or `keras.saving.save_model(model, 'my_model.keras')`. \n"
     ]
    },
    {
     "name": "stdout",
     "output_type": "stream",
     "text": [
      "\u001B[1m26/26\u001B[0m \u001B[32m━━━━━━━━━━━━━━━━━━━━\u001B[0m\u001B[37m\u001B[0m \u001B[1m25s\u001B[0m 961ms/step - accuracy: 0.8774 - loss: 0.3798 - val_accuracy: 0.9569 - val_loss: 0.1654 - learning_rate: 0.0010\n",
      "Epoch 9/10\n",
      "\u001B[1m26/26\u001B[0m \u001B[32m━━━━━━━━━━━━━━━━━━━━\u001B[0m\u001B[37m\u001B[0m \u001B[1m24s\u001B[0m 941ms/step - accuracy: 0.8965 - loss: 0.3508 - val_accuracy: 0.9474 - val_loss: 0.1660 - learning_rate: 0.0010\n",
      "Epoch 10/10\n",
      "\u001B[1m26/26\u001B[0m \u001B[32m━━━━━━━━━━━━━━━━━━━━\u001B[0m\u001B[37m\u001B[0m \u001B[1m24s\u001B[0m 942ms/step - accuracy: 0.9213 - loss: 0.2811 - val_accuracy: 0.9474 - val_loss: 0.1670 - learning_rate: 0.0010\n"
     ]
    },
    {
     "data": {
      "text/plain": [
       "<Figure size 1200x500 with 2 Axes>"
      ],
      "image/png": "[encoded data removed]"
     },
     "metadata": {},
     "output_type": "display_data"
    },
    {
     "name": "stdout",
     "output_type": "stream",
     "text": [
      "Final Validation Accuracy: 95.69%\n",
      "Final Validation Loss: 16.54%\n"
     ]
    },
    {
     "name": "stderr",
     "output_type": "stream",
     "text": [
      "WARNING:absl:You are saving your model as an HDF5 file via `model.save()` or `keras.saving.save_model(model)`. This file format is considered legacy. We recommend using instead the native Keras format, e.g. `model.save('my_model.keras')` or `keras.saving.save_model(model, 'my_model.keras')`. \n"
     ]
    }
   ],
   "execution_count": 5
  },
  {
   "metadata": {},
   "cell_type": "markdown",
   "source": "## Trying pre-trained model 2 (ResNet50)",
   "id": "2bfdb2fabf09bcf3"
  },
  {
   "metadata": {
    "ExecuteTime": {
     "end_time": "2025-07-11T19:39:14.484887Z",
     "start_time": "2025-07-11T19:27:32.802717Z"
    }
   },
   "cell_type": "code",
   "source": [
    "import tensorflow as tf\n",
    "from tensorflow.keras import layers, models\n",
    "def create_resnet_model(num_classes=5):\n",
    "    \"\"\"Create a model using ResNet50 as the base\"\"\"\n",
    "    base_model = tf.keras.applications.ResNet50(\n",
    "        input_shape=(224, 224, 3),\n",
    "        include_top=False,\n",
    "        weights='imagenet'\n",
    "    )\n",
    "    base_model.trainable = False  # Freeze the base model\n",
    "\n",
    "    image_input = layers.Input(shape=(224, 224, 3), name='image_input')\n",
    "    x = base_model(image_input)\n",
    "    x = layers.GlobalAveragePooling2D()(x)\n",
    "\n",
    "    angle_input = layers.Input(shape=(9,), name='angle_input')\n",
    "    a = layers.Dense(32, activation='relu')(angle_input)\n",
    "\n",
    "    combined = layers.concatenate([x, a])\n",
    "    z = layers.Dense(128, activation='relu')(combined)\n",
    "    z = layers.Dropout(0.5)(z)\n",
    "    output = layers.Dense(num_classes, activation='softmax')(z)\n",
    "\n",
    "    return models.Model(inputs=[image_input, angle_input], outputs=output)\n",
    "\n",
    "def train_resnet_model():\n",
    "    # Load processed data\n",
    "    df = pd.read_pickle('Model/yoga_dataset_processed.pkl')\n",
    "\n",
    "    # Prepare data\n",
    "    X_img, X_ang, y, class_to_idx = prepare_data(df)\n",
    "\n",
    "    # Split data\n",
    "    (X_img_train, X_img_val,\n",
    "     X_ang_train, X_ang_val,\n",
    "     y_train, y_val) = train_test_split(X_img, X_ang, y, test_size=0.2)\n",
    "\n",
    "    # Create model\n",
    "    model = create_resnet_model(num_classes=len(class_to_idx))\n",
    "\n",
    "    # Compile\n",
    "    model.compile(\n",
    "        optimizer='adam',\n",
    "        loss='categorical_crossentropy',\n",
    "        metrics=['accuracy']\n",
    "    )\n",
    "\n",
    "    # Define callbacks\n",
    "    training_callbacks = [\n",
    "        EarlyStopping(patience=5, restore_best_weights=True),\n",
    "        ModelCheckpoint('Model/resnet_best_model.h5', save_best_only=True),\n",
    "        ReduceLROnPlateau(factor=0.1, patience=3)\n",
    "    ]\n",
    "\n",
    "    # Train\n",
    "    history = model.fit(\n",
    "        x={'image_input': X_img_train, 'angle_input': X_ang_train},\n",
    "        y=y_train,\n",
    "        validation_data=({'image_input': X_img_val, 'angle_input': X_ang_val}, y_val),\n",
    "        epochs=10,\n",
    "        batch_size=32,\n",
    "        callbacks=training_callbacks\n",
    "    )\n",
    "\n",
    "    plt.figure(figsize=(12, 5))\n",
    "    plt.subplot(1, 2, 1)\n",
    "    plt.plot(history.history['loss'], label='Train Loss')\n",
    "    plt.plot(history.history['val_loss'], label='Val Loss')\n",
    "    plt.legend()\n",
    "    plt.title('Loss')\n",
    "\n",
    "    plt.subplot(1, 2, 2)\n",
    "    plt.plot(history.history['accuracy'], label='Train Acc')\n",
    "    plt.plot(history.history['val_accuracy'], label='Val Acc')\n",
    "    plt.legend()\n",
    "    plt.title('Accuracy')\n",
    "\n",
    "    plt.show()\n",
    "\n",
    "    # Save class mapping\n",
    "    idx_to_class = {v: k for k, v in class_to_idx.items()}  # Reverse mapping\n",
    "    with open('Model/class_mapping.pkl', 'wb') as f:\n",
    "        pickle.dump(idx_to_class, f)  # New: {0:'downdog', 1:'warrior'}\n",
    "\n",
    "    val_loss, val_acc = model.evaluate(\n",
    "        {'image_input': X_img_val, 'angle_input': X_ang_val},\n",
    "        y_val,\n",
    "        verbose=0\n",
    "    )\n",
    "    print(f\"Final Validation Accuracy: {val_acc * 100:.2f}%\")\n",
    "    print(f\"Final Validation Loss: {val_loss * 100:.2f}%\")\n",
    "    return model, history\n",
    "\n",
    "if __name__ == \"__main__\":\n",
    "    model, history = train_resnet_model()\n",
    "    # Save the model\n",
    "    model.save('Model/resnet_best_model.h5')"
   ],
   "id": "f1483bed010530a7",
   "outputs": [
    {
     "name": "stdout",
     "output_type": "stream",
     "text": [
      "Epoch 1/10\n",
      "\u001B[1m26/26\u001B[0m \u001B[32m━━━━━━━━━━━━━━━━━━━━\u001B[0m\u001B[37m\u001B[0m \u001B[1m0s\u001B[0m 2s/step - accuracy: 0.3038 - loss: 12.1246"
     ]
    },
    {
     "name": "stderr",
     "output_type": "stream",
     "text": [
      "WARNING:absl:You are saving your model as an HDF5 file via `model.save()` or `keras.saving.save_model(model)`. This file format is considered legacy. We recommend using instead the native Keras format, e.g. `model.save('my_model.keras')` or `keras.saving.save_model(model, 'my_model.keras')`. \n"
     ]
    },
    {
     "name": "stdout",
     "output_type": "stream",
     "text": [
      "\u001B[1m26/26\u001B[0m \u001B[32m━━━━━━━━━━━━━━━━━━━━\u001B[0m\u001B[37m\u001B[0m \u001B[1m83s\u001B[0m 3s/step - accuracy: 0.3063 - loss: 11.9505 - val_accuracy: 0.7129 - val_loss: 0.8693 - learning_rate: 0.0010\n",
      "Epoch 2/10\n",
      "\u001B[1m26/26\u001B[0m \u001B[32m━━━━━━━━━━━━━━━━━━━━\u001B[0m\u001B[37m\u001B[0m \u001B[1m0s\u001B[0m 2s/step - accuracy: 0.5758 - loss: 1.5221"
     ]
    },
    {
     "name": "stderr",
     "output_type": "stream",
     "text": [
      "WARNING:absl:You are saving your model as an HDF5 file via `model.save()` or `keras.saving.save_model(model)`. This file format is considered legacy. We recommend using instead the native Keras format, e.g. `model.save('my_model.keras')` or `keras.saving.save_model(model, 'my_model.keras')`. \n"
     ]
    },
    {
     "name": "stdout",
     "output_type": "stream",
     "text": [
      "\u001B[1m26/26\u001B[0m \u001B[32m━━━━━━━━━━━━━━━━━━━━\u001B[0m\u001B[37m\u001B[0m \u001B[1m64s\u001B[0m 2s/step - accuracy: 0.5764 - loss: 1.5109 - val_accuracy: 0.7751 - val_loss: 0.6446 - learning_rate: 0.0010\n",
      "Epoch 3/10\n",
      "\u001B[1m26/26\u001B[0m \u001B[32m━━━━━━━━━━━━━━━━━━━━\u001B[0m\u001B[37m\u001B[0m \u001B[1m0s\u001B[0m 2s/step - accuracy: 0.6465 - loss: 0.9591"
     ]
    },
    {
     "name": "stderr",
     "output_type": "stream",
     "text": [
      "WARNING:absl:You are saving your model as an HDF5 file via `model.save()` or `keras.saving.save_model(model)`. This file format is considered legacy. We recommend using instead the native Keras format, e.g. `model.save('my_model.keras')` or `keras.saving.save_model(model, 'my_model.keras')`. \n"
     ]
    },
    {
     "name": "stdout",
     "output_type": "stream",
     "text": [
      "\u001B[1m26/26\u001B[0m \u001B[32m━━━━━━━━━━━━━━━━━━━━\u001B[0m\u001B[37m\u001B[0m \u001B[1m65s\u001B[0m 3s/step - accuracy: 0.6472 - loss: 0.9565 - val_accuracy: 0.8469 - val_loss: 0.4999 - learning_rate: 0.0010\n",
      "Epoch 4/10\n",
      "\u001B[1m26/26\u001B[0m \u001B[32m━━━━━━━━━━━━━━━━━━━━\u001B[0m\u001B[37m\u001B[0m \u001B[1m0s\u001B[0m 2s/step - accuracy: 0.7072 - loss: 0.8545"
     ]
    },
    {
     "name": "stderr",
     "output_type": "stream",
     "text": [
      "WARNING:absl:You are saving your model as an HDF5 file via `model.save()` or `keras.saving.save_model(model)`. This file format is considered legacy. We recommend using instead the native Keras format, e.g. `model.save('my_model.keras')` or `keras.saving.save_model(model, 'my_model.keras')`. \n"
     ]
    },
    {
     "name": "stdout",
     "output_type": "stream",
     "text": [
      "\u001B[1m26/26\u001B[0m \u001B[32m━━━━━━━━━━━━━━━━━━━━\u001B[0m\u001B[37m\u001B[0m \u001B[1m63s\u001B[0m 2s/step - accuracy: 0.7069 - loss: 0.8535 - val_accuracy: 0.8804 - val_loss: 0.4882 - learning_rate: 0.0010\n",
      "Epoch 5/10\n",
      "\u001B[1m26/26\u001B[0m \u001B[32m━━━━━━━━━━━━━━━━━━━━\u001B[0m\u001B[37m\u001B[0m \u001B[1m0s\u001B[0m 2s/step - accuracy: 0.7336 - loss: 0.7582"
     ]
    },
    {
     "name": "stderr",
     "output_type": "stream",
     "text": [
      "WARNING:absl:You are saving your model as an HDF5 file via `model.save()` or `keras.saving.save_model(model)`. This file format is considered legacy. We recommend using instead the native Keras format, e.g. `model.save('my_model.keras')` or `keras.saving.save_model(model, 'my_model.keras')`. \n"
     ]
    },
    {
     "name": "stdout",
     "output_type": "stream",
     "text": [
      "\u001B[1m26/26\u001B[0m \u001B[32m━━━━━━━━━━━━━━━━━━━━\u001B[0m\u001B[37m\u001B[0m \u001B[1m63s\u001B[0m 2s/step - accuracy: 0.7332 - loss: 0.7588 - val_accuracy: 0.8612 - val_loss: 0.4586 - learning_rate: 0.0010\n",
      "Epoch 6/10\n",
      "\u001B[1m26/26\u001B[0m \u001B[32m━━━━━━━━━━━━━━━━━━━━\u001B[0m\u001B[37m\u001B[0m \u001B[1m0s\u001B[0m 2s/step - accuracy: 0.7466 - loss: 0.7716"
     ]
    },
    {
     "name": "stderr",
     "output_type": "stream",
     "text": [
      "WARNING:absl:You are saving your model as an HDF5 file via `model.save()` or `keras.saving.save_model(model)`. This file format is considered legacy. We recommend using instead the native Keras format, e.g. `model.save('my_model.keras')` or `keras.saving.save_model(model, 'my_model.keras')`. \n"
     ]
    },
    {
     "name": "stdout",
     "output_type": "stream",
     "text": [
      "\u001B[1m26/26\u001B[0m \u001B[32m━━━━━━━━━━━━━━━━━━━━\u001B[0m\u001B[37m\u001B[0m \u001B[1m72s\u001B[0m 3s/step - accuracy: 0.7471 - loss: 0.7691 - val_accuracy: 0.8708 - val_loss: 0.4218 - learning_rate: 0.0010\n",
      "Epoch 7/10\n",
      "\u001B[1m26/26\u001B[0m \u001B[32m━━━━━━━━━━━━━━━━━━━━\u001B[0m\u001B[37m\u001B[0m \u001B[1m0s\u001B[0m 2s/step - accuracy: 0.7729 - loss: 0.6352"
     ]
    },
    {
     "name": "stderr",
     "output_type": "stream",
     "text": [
      "WARNING:absl:You are saving your model as an HDF5 file via `model.save()` or `keras.saving.save_model(model)`. This file format is considered legacy. We recommend using instead the native Keras format, e.g. `model.save('my_model.keras')` or `keras.saving.save_model(model, 'my_model.keras')`. \n"
     ]
    },
    {
     "name": "stdout",
     "output_type": "stream",
     "text": [
      "\u001B[1m26/26\u001B[0m \u001B[32m━━━━━━━━━━━━━━━━━━━━\u001B[0m\u001B[37m\u001B[0m \u001B[1m64s\u001B[0m 2s/step - accuracy: 0.7727 - loss: 0.6359 - val_accuracy: 0.8756 - val_loss: 0.4064 - learning_rate: 0.0010\n",
      "Epoch 8/10\n",
      "\u001B[1m26/26\u001B[0m \u001B[32m━━━━━━━━━━━━━━━━━━━━\u001B[0m\u001B[37m\u001B[0m \u001B[1m0s\u001B[0m 2s/step - accuracy: 0.7447 - loss: 0.6940"
     ]
    },
    {
     "name": "stderr",
     "output_type": "stream",
     "text": [
      "WARNING:absl:You are saving your model as an HDF5 file via `model.save()` or `keras.saving.save_model(model)`. This file format is considered legacy. We recommend using instead the native Keras format, e.g. `model.save('my_model.keras')` or `keras.saving.save_model(model, 'my_model.keras')`. \n"
     ]
    },
    {
     "name": "stdout",
     "output_type": "stream",
     "text": [
      "\u001B[1m26/26\u001B[0m \u001B[32m━━━━━━━━━━━━━━━━━━━━\u001B[0m\u001B[37m\u001B[0m \u001B[1m64s\u001B[0m 2s/step - accuracy: 0.7453 - loss: 0.6928 - val_accuracy: 0.8852 - val_loss: 0.3996 - learning_rate: 0.0010\n",
      "Epoch 9/10\n",
      "\u001B[1m26/26\u001B[0m \u001B[32m━━━━━━━━━━━━━━━━━━━━\u001B[0m\u001B[37m\u001B[0m \u001B[1m0s\u001B[0m 2s/step - accuracy: 0.7945 - loss: 0.5654"
     ]
    },
    {
     "name": "stderr",
     "output_type": "stream",
     "text": [
      "WARNING:absl:You are saving your model as an HDF5 file via `model.save()` or `keras.saving.save_model(model)`. This file format is considered legacy. We recommend using instead the native Keras format, e.g. `model.save('my_model.keras')` or `keras.saving.save_model(model, 'my_model.keras')`. \n"
     ]
    },
    {
     "name": "stdout",
     "output_type": "stream",
     "text": [
      "\u001B[1m26/26\u001B[0m \u001B[32m━━━━━━━━━━━━━━━━━━━━\u001B[0m\u001B[37m\u001B[0m \u001B[1m64s\u001B[0m 2s/step - accuracy: 0.7944 - loss: 0.5666 - val_accuracy: 0.8995 - val_loss: 0.3994 - learning_rate: 0.0010\n",
      "Epoch 10/10\n",
      "\u001B[1m26/26\u001B[0m \u001B[32m━━━━━━━━━━━━━━━━━━━━\u001B[0m\u001B[37m\u001B[0m \u001B[1m0s\u001B[0m 2s/step - accuracy: 0.7695 - loss: 0.6549"
     ]
    },
    {
     "name": "stderr",
     "output_type": "stream",
     "text": [
      "WARNING:absl:You are saving your model as an HDF5 file via `model.save()` or `keras.saving.save_model(model)`. This file format is considered legacy. We recommend using instead the native Keras format, e.g. `model.save('my_model.keras')` or `keras.saving.save_model(model, 'my_model.keras')`. \n"
     ]
    },
    {
     "name": "stdout",
     "output_type": "stream",
     "text": [
      "\u001B[1m26/26\u001B[0m \u001B[32m━━━━━━━━━━━━━━━━━━━━\u001B[0m\u001B[37m\u001B[0m \u001B[1m64s\u001B[0m 2s/step - accuracy: 0.7705 - loss: 0.6529 - val_accuracy: 0.8900 - val_loss: 0.3513 - learning_rate: 0.0010\n"
     ]
    },
    {
     "data": {
      "text/plain": [
       "<Figure size 1200x500 with 2 Axes>"
      ],
      "image/png": "[encoded data removed]"
     },
     "metadata": {},
     "output_type": "display_data"
    },
    {
     "name": "stdout",
     "output_type": "stream",
     "text": [
      "Final Validation Accuracy: 89.00%\n",
      "Final Validation Loss: 35.13%\n"
     ]
    },
    {
     "name": "stderr",
     "output_type": "stream",
     "text": [
      "WARNING:absl:You are saving your model as an HDF5 file via `model.save()` or `keras.saving.save_model(model)`. This file format is considered legacy. We recommend using instead the native Keras format, e.g. `model.save('my_model.keras')` or `keras.saving.save_model(model, 'my_model.keras')`. \n"
     ]
    }
   ],
   "execution_count": 6
  },
  {
   "metadata": {},
   "cell_type": "markdown",
   "source": "# 5. Run Application",
   "id": "9d32c8d8d00bdb"
  },
  {
   "cell_type": "code",
   "id": "40059ca4-4093-49e3-aad2-ddee760c6aad",
   "metadata": {
    "scrolled": true,
    "ExecuteTime": {
     "end_time": "2025-07-11T19:41:24.580118Z",
     "start_time": "2025-07-11T19:39:34.640169Z"
    }
   },
   "source": [
    "import cv2\n",
    "import numpy as np\n",
    "import tensorflow as tf\n",
    "import mediapipe as mp\n",
    "import pickle\n",
    "import pyttsx3\n",
    "import time\n",
    "import threading\n",
    "\n",
    "# Initialize MediaPipe components\n",
    "mp_drawing = mp.solutions.drawing_utils\n",
    "mp_pose = mp.solutions.pose\n",
    "\n",
    "# Configure TensorFlow for GPU\n",
    "gpus = tf.config.experimental.list_physical_devices('GPU')\n",
    "if gpus:\n",
    "    try:\n",
    "        for gpu in gpus:\n",
    "            tf.config.experimental.set_memory_growth(gpu, True)\n",
    "    except RuntimeError as e:\n",
    "        print(e)\n",
    "\n",
    "# MediaPipe Pose Configuration\n",
    "pose = mp_pose.Pose(\n",
    "    static_image_mode=False,\n",
    "    model_complexity=1,\n",
    "    smooth_landmarks=True,\n",
    "    min_detection_confidence=0.7,\n",
    "    min_tracking_confidence=0.7\n",
    ")\n",
    "\n",
    "\n",
    "# Threaded Voice Engine\n",
    "class VoiceCoach:\n",
    "    def __init__(self):\n",
    "        self.engine = pyttsx3.init()\n",
    "        self.engine.setProperty('rate', 160)\n",
    "        self.lock = threading.Lock()\n",
    "\n",
    "    def speak(self, msg):\n",
    "        def run():\n",
    "            with self.lock:\n",
    "                self.engine.say(msg)\n",
    "                self.engine.runAndWait()\n",
    "\n",
    "        threading.Thread(target=run).start()\n",
    "\n",
    "\n",
    "voice = VoiceCoach()\n",
    "\n",
    "\n",
    "# Core Functions\n",
    "def calculate_angle(a, b, c):\n",
    "    a = np.array(a)\n",
    "    b = np.array(b)\n",
    "    c = np.array(c)\n",
    "\n",
    "    radians = np.arctan2(c[1] - b[1], c[0] - b[0]) - np.arctan2(a[1] - b[1], a[0] - b[0])\n",
    "    angle = np.abs(radians * 180.0 / np.pi)\n",
    "\n",
    "    if angle > 180.0:\n",
    "        angle = 360 - angle\n",
    "\n",
    "    return angle\n",
    "\n",
    "\n",
    "def get_angles(landmarks, frame_shape):\n",
    "    points = {}\n",
    "    indices = [11, 12, 13, 14, 15, 16, 23, 24, 25, 26, 27, 28]  # Shoulders, elbows, wrists, hips, knees, ankles\n",
    "\n",
    "    for idx in indices:\n",
    "        landmark = landmarks.landmark[idx]\n",
    "        points[idx] = [landmark.x * frame_shape[1], landmark.y * frame_shape[0]]\n",
    "\n",
    "    try:\n",
    "        angles = np.array([\n",
    "            calculate_angle(points[11], points[13], points[15]),  # Left elbow\n",
    "            calculate_angle(points[12], points[14], points[16]),  # Right elbow\n",
    "            calculate_angle(points[13], points[11], points[23]),  # Left shoulder\n",
    "            calculate_angle(points[14], points[12], points[24]),  # Right shoulder\n",
    "            calculate_angle(points[11], points[23], points[25]),  # Left hip\n",
    "            calculate_angle(points[12], points[24], points[26]),  # Right hip\n",
    "            calculate_angle(points[23], points[25], points[27]),  # Left knee\n",
    "            calculate_angle(points[24], points[26], points[28]),  # Right knee\n",
    "            calculate_angle(points[11], points[23], points[27])  # Spine\n",
    "        ])\n",
    "        return points, angles\n",
    "    except KeyError as e:\n",
    "        print(f\"Missing landmark: {e}\")\n",
    "        return None, None\n",
    "\n",
    "\n",
    "def predict_pose(model, img_input, angle_input, idx_to_class):\n",
    "    pred = model.predict({\n",
    "        'image_input': np.expand_dims(img_input, axis=0),\n",
    "        'angle_input': np.expand_dims(angle_input, axis=0)\n",
    "    }, verbose=0)\n",
    "    return idx_to_class[np.argmax(pred)], np.max(pred)\n",
    "\n",
    "\n",
    "def get_feedback(pose_name, angles, confidence):\n",
    "    if angles is None:\n",
    "        return [\"Can't detect all body points\"]\n",
    "\n",
    "    if confidence > 0.95:\n",
    "        return [\"Perfect! Keep going\"]\n",
    "\n",
    "    feedback = []\n",
    "\n",
    "    if pose_name == \"warrior2\":\n",
    "        if angles[6] < 80:\n",
    "            feedback.append(\"Bend front knee more\")\n",
    "        elif angles[6] > 100:\n",
    "            feedback.append(\"Reduce knee bend\")\n",
    "        if angles[7] < 170: feedback.append(\"Straighten back leg\")\n",
    "\n",
    "    elif pose_name == \"tree\":\n",
    "        if angles[7] < 170: feedback.append(\"Straighten standing leg\")\n",
    "        if angles[6] > 110: feedback.append(\"Bring knee inward\")\n",
    "\n",
    "    elif pose_name == \"goddess\":\n",
    "        if angles[6] > 120: feedback.append(\"Sink deeper into squat\")\n",
    "        if angles[8] < 160: feedback.append(\"Tuck pelvis\")\n",
    "\n",
    "    elif pose_name == \"downdog\":\n",
    "        if angles[0] > 170: feedback.append(\"Microbend elbows\")\n",
    "        if angles[8] < 160: feedback.append(\"Lift hips higher\")\n",
    "\n",
    "    elif pose_name == \"plank\":\n",
    "        if angles[8] < 160: feedback.append(\"Straighten body line\")\n",
    "        if angles[0] > 170: feedback.append(\"Soften elbows\")\n",
    "\n",
    "    return feedback[:1] if feedback else [\"Adjust your pose\"]\n",
    "\n",
    "\n",
    "# Main Application\n",
    "def main():\n",
    "    # Load model\n",
    "    model = tf.keras.models.load_model('Model/best_model.h5')\n",
    "    with open('Model/class_mapping.pkl', 'rb') as f:\n",
    "        idx_to_class = pickle.load(f)\n",
    "\n",
    "    cap = cv2.VideoCapture(0)\n",
    "    cap.set(cv2.CAP_PROP_FRAME_WIDTH, 1280)\n",
    "    cap.set(cv2.CAP_PROP_FRAME_HEIGHT, 720)\n",
    "\n",
    "    last_feedback = time.time()\n",
    "    prev_pose = None\n",
    "\n",
    "    while cap.isOpened():\n",
    "        ret, frame = cap.read()\n",
    "        if not ret:\n",
    "            break\n",
    "\n",
    "        # Process frame\n",
    "        rgb = cv2.cvtColor(frame, cv2.COLOR_BGR2RGB)\n",
    "        results = pose.process(rgb)\n",
    "\n",
    "        if results.pose_landmarks:\n",
    "            points, angles = get_angles(results.pose_landmarks, frame.shape)\n",
    "\n",
    "            if angles is not None:\n",
    "                img_input = cv2.resize(rgb, (224, 224)) / 255.0\n",
    "                pose_name, confidence = predict_pose(model, img_input, angles, idx_to_class)\n",
    "\n",
    "                # Display angles for debugging\n",
    "                angle_text = \" \".join([f\"{a:.1f}°\" for a in angles])\n",
    "                cv2.putText(frame, angle_text, (30, 100),\n",
    "                            cv2.FONT_HERSHEY_SIMPLEX, 0.7, (255, 255, 255), 2)\n",
    "\n",
    "                # Give feedback periodically\n",
    "                if time.time() - last_feedback > 3:\n",
    "                    feedback = get_feedback(pose_name, angles, confidence)\n",
    "                    if feedback:\n",
    "                        voice.speak(feedback[0])\n",
    "                        cv2.putText(frame, feedback[0], (30, 50),\n",
    "                                    cv2.FONT_HERSHEY_SIMPLEX, 1.0, (0, 0, 255), 2)\n",
    "                        last_feedback = time.time()\n",
    "\n",
    "                # Draw landmarks\n",
    "                mp_drawing.draw_landmarks(\n",
    "                    frame, results.pose_landmarks, mp_pose.POSE_CONNECTIONS,\n",
    "                    landmark_drawing_spec=mp_drawing.DrawingSpec(color=(0, 255, 0), thickness=2),\n",
    "                    connection_drawing_spec=mp_drawing.DrawingSpec(color=(255, 0, 0), thickness=2)\n",
    "                )\n",
    "\n",
    "                # Display pose info\n",
    "                cv2.putText(frame, f\"{pose_name} ({confidence:.2f})\", (30, 30),\n",
    "                            cv2.FONT_HERSHEY_SIMPLEX, 1.0, (0, 255, 0), 2)\n",
    "\n",
    "        cv2.imshow('Yoga Coach (Q to quit)', frame)\n",
    "        if cv2.waitKey(1) & 0xFF == ord('q'):\n",
    "            break\n",
    "\n",
    "    cap.release()\n",
    "    cv2.destroyAllWindows()\n",
    "\n",
    "\n",
    "if __name__ == \"__main__\":\n",
    "    main()"
   ],
   "outputs": [
    {
     "name": "stderr",
     "output_type": "stream",
     "text": [
      "WARNING:absl:Compiled the loaded model, but the compiled metrics have yet to be built. `model.compile_metrics` will be empty until you train or evaluate the model.\n"
     ]
    }
   ],
   "execution_count": 7
  }
 ],
 "metadata": {
  "kernelspec": {
   "display_name": "Python [conda env:base] *",
   "language": "python",
   "name": "conda-base-py"
  },
  "language_info": {
   "codemirror_mode": {
    "name": "ipython",
    "version": 3
   },
   "file_extension": ".py",
   "mimetype": "text/x-python",
   "name": "python",
   "nbconvert_exporter": "python",
   "pygments_lexer": "ipython3",
   "version": "3.12.7"
  }
 },
 "nbformat": 4,
 "nbformat_minor": 5
}
