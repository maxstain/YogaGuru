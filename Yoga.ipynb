{
 "cells": [
  {
   "cell_type": "code",
   "id": "6efd0611-f209-4b8f-b8cd-299f4b4a4e28",
   "metadata": {
    "ExecuteTime": {
     "end_time": "2025-05-26T23:16:26.365419Z",
     "start_time": "2025-05-26T23:14:29.648209Z"
    }
   },
   "source": [
    "!pip install kagglehub\n",
    "!pip install opencv-python\n",
    "!pip install mediapipe\n",
    "import kagglehub\n",
    "\n",
    "# Download latest version\n",
    "dataset_path = kagglehub.dataset_download(\"niharika41298/yoga-poses-dataset\")\n",
    "\n",
    "print(\"Path to dataset files:\", dataset_path)"
   ],
   "outputs": [
    {
     "name": "stdout",
     "output_type": "stream",
     "text": [
      "Requirement already satisfied: kagglehub in c:\\users\\hp\\appdata\\local\\packages\\pythonsoftwarefoundation.python.3.12_qbz5n2kfra8p0\\localcache\\local-packages\\python312\\site-packages (0.3.12)\n",
      "Requirement already satisfied: packaging in c:\\users\\hp\\appdata\\local\\packages\\pythonsoftwarefoundation.python.3.12_qbz5n2kfra8p0\\localcache\\local-packages\\python312\\site-packages (from kagglehub) (24.1)\n",
      "Requirement already satisfied: pyyaml in e:\\projects\\machine-learning\\.venv\\lib\\site-packages (from kagglehub) (6.0.2)\n",
      "Requirement already satisfied: requests in e:\\projects\\machine-learning\\.venv\\lib\\site-packages (from kagglehub) (2.32.3)\n",
      "Requirement already satisfied: tqdm in c:\\users\\hp\\appdata\\local\\packages\\pythonsoftwarefoundation.python.3.12_qbz5n2kfra8p0\\localcache\\local-packages\\python312\\site-packages (from kagglehub) (4.67.1)\n",
      "Requirement already satisfied: charset-normalizer<4,>=2 in e:\\projects\\machine-learning\\.venv\\lib\\site-packages (from requests->kagglehub) (3.4.1)\n",
      "Requirement already satisfied: idna<4,>=2.5 in e:\\projects\\machine-learning\\.venv\\lib\\site-packages (from requests->kagglehub) (3.10)\n",
      "Requirement already satisfied: urllib3<3,>=1.21.1 in e:\\projects\\machine-learning\\.venv\\lib\\site-packages (from requests->kagglehub) (2.4.0)\n",
      "Requirement already satisfied: certifi>=2017.4.17 in e:\\projects\\machine-learning\\.venv\\lib\\site-packages (from requests->kagglehub) (2025.1.31)\n",
      "Requirement already satisfied: colorama in c:\\users\\hp\\appdata\\local\\packages\\pythonsoftwarefoundation.python.3.12_qbz5n2kfra8p0\\localcache\\local-packages\\python312\\site-packages (from tqdm->kagglehub) (0.4.6)\n",
      "Requirement already satisfied: opencv-python in c:\\users\\hp\\appdata\\local\\packages\\pythonsoftwarefoundation.python.3.12_qbz5n2kfra8p0\\localcache\\local-packages\\python312\\site-packages (4.11.0.86)\n",
      "Requirement already satisfied: numpy>=1.21.2 in e:\\projects\\machine-learning\\.venv\\lib\\site-packages (from opencv-python) (2.2.4)\n",
      "Requirement already satisfied: mediapipe in c:\\users\\hp\\appdata\\local\\packages\\pythonsoftwarefoundation.python.3.12_qbz5n2kfra8p0\\localcache\\local-packages\\python312\\site-packages (0.10.21)\n",
      "Requirement already satisfied: absl-py in c:\\users\\hp\\appdata\\local\\packages\\pythonsoftwarefoundation.python.3.12_qbz5n2kfra8p0\\localcache\\local-packages\\python312\\site-packages (from mediapipe) (2.2.2)\n",
      "Requirement already satisfied: attrs>=19.1.0 in e:\\projects\\machine-learning\\.venv\\lib\\site-packages (from mediapipe) (25.3.0)\n",
      "Requirement already satisfied: flatbuffers>=2.0 in c:\\users\\hp\\appdata\\local\\packages\\pythonsoftwarefoundation.python.3.12_qbz5n2kfra8p0\\localcache\\local-packages\\python312\\site-packages (from mediapipe) (25.2.10)\n",
      "Requirement already satisfied: jax in c:\\users\\hp\\appdata\\local\\packages\\pythonsoftwarefoundation.python.3.12_qbz5n2kfra8p0\\localcache\\local-packages\\python312\\site-packages (from mediapipe) (0.6.1)\n",
      "Requirement already satisfied: jaxlib in c:\\users\\hp\\appdata\\local\\packages\\pythonsoftwarefoundation.python.3.12_qbz5n2kfra8p0\\localcache\\local-packages\\python312\\site-packages (from mediapipe) (0.6.1)\n",
      "Requirement already satisfied: matplotlib in e:\\projects\\machine-learning\\.venv\\lib\\site-packages (from mediapipe) (3.10.1)\n",
      "Collecting numpy<2 (from mediapipe)\n",
      "  Using cached numpy-1.26.4-cp312-cp312-win_amd64.whl.metadata (61 kB)\n",
      "Requirement already satisfied: opencv-contrib-python in c:\\users\\hp\\appdata\\local\\packages\\pythonsoftwarefoundation.python.3.12_qbz5n2kfra8p0\\localcache\\local-packages\\python312\\site-packages (from mediapipe) (4.11.0.86)\n",
      "Requirement already satisfied: protobuf<5,>=4.25.3 in c:\\users\\hp\\appdata\\local\\packages\\pythonsoftwarefoundation.python.3.12_qbz5n2kfra8p0\\localcache\\local-packages\\python312\\site-packages (from mediapipe) (4.25.7)\n",
      "Requirement already satisfied: sounddevice>=0.4.4 in c:\\users\\hp\\appdata\\local\\packages\\pythonsoftwarefoundation.python.3.12_qbz5n2kfra8p0\\localcache\\local-packages\\python312\\site-packages (from mediapipe) (0.5.2)\n",
      "Requirement already satisfied: sentencepiece in c:\\users\\hp\\appdata\\local\\packages\\pythonsoftwarefoundation.python.3.12_qbz5n2kfra8p0\\localcache\\local-packages\\python312\\site-packages (from mediapipe) (0.2.0)\n",
      "Requirement already satisfied: CFFI>=1.0 in e:\\projects\\machine-learning\\.venv\\lib\\site-packages (from sounddevice>=0.4.4->mediapipe) (1.17.1)\n",
      "Requirement already satisfied: pycparser in e:\\projects\\machine-learning\\.venv\\lib\\site-packages (from CFFI>=1.0->sounddevice>=0.4.4->mediapipe) (2.22)\n",
      "Requirement already satisfied: ml_dtypes>=0.5.0 in c:\\users\\hp\\appdata\\local\\packages\\pythonsoftwarefoundation.python.3.12_qbz5n2kfra8p0\\localcache\\local-packages\\python312\\site-packages (from jax->mediapipe) (0.5.1)\n",
      "Requirement already satisfied: opt_einsum in c:\\users\\hp\\appdata\\local\\packages\\pythonsoftwarefoundation.python.3.12_qbz5n2kfra8p0\\localcache\\local-packages\\python312\\site-packages (from jax->mediapipe) (3.4.0)\n",
      "Requirement already satisfied: scipy>=1.11.1 in e:\\projects\\machine-learning\\.venv\\lib\\site-packages (from jax->mediapipe) (1.15.2)\n",
      "Requirement already satisfied: contourpy>=1.0.1 in e:\\projects\\machine-learning\\.venv\\lib\\site-packages (from matplotlib->mediapipe) (1.3.1)\n",
      "Requirement already satisfied: cycler>=0.10 in e:\\projects\\machine-learning\\.venv\\lib\\site-packages (from matplotlib->mediapipe) (0.12.1)\n",
      "Requirement already satisfied: fonttools>=4.22.0 in e:\\projects\\machine-learning\\.venv\\lib\\site-packages (from matplotlib->mediapipe) (4.57.0)\n",
      "Requirement already satisfied: kiwisolver>=1.3.1 in e:\\projects\\machine-learning\\.venv\\lib\\site-packages (from matplotlib->mediapipe) (1.4.8)\n",
      "Requirement already satisfied: packaging>=20.0 in c:\\users\\hp\\appdata\\local\\packages\\pythonsoftwarefoundation.python.3.12_qbz5n2kfra8p0\\localcache\\local-packages\\python312\\site-packages (from matplotlib->mediapipe) (24.1)\n",
      "Requirement already satisfied: pillow>=8 in e:\\projects\\machine-learning\\.venv\\lib\\site-packages (from matplotlib->mediapipe) (11.2.1)\n",
      "Requirement already satisfied: pyparsing>=2.3.1 in e:\\projects\\machine-learning\\.venv\\lib\\site-packages (from matplotlib->mediapipe) (3.2.3)\n",
      "Requirement already satisfied: python-dateutil>=2.7 in c:\\users\\hp\\appdata\\local\\packages\\pythonsoftwarefoundation.python.3.12_qbz5n2kfra8p0\\localcache\\local-packages\\python312\\site-packages (from matplotlib->mediapipe) (2.9.0.post0)\n",
      "Requirement already satisfied: six>=1.5 in c:\\users\\hp\\appdata\\local\\packages\\pythonsoftwarefoundation.python.3.12_qbz5n2kfra8p0\\localcache\\local-packages\\python312\\site-packages (from python-dateutil>=2.7->matplotlib->mediapipe) (1.16.0)\n",
      "Using cached numpy-1.26.4-cp312-cp312-win_amd64.whl (15.5 MB)\n",
      "Installing collected packages: numpy\n",
      "  Attempting uninstall: numpy\n",
      "    Found existing installation: numpy 2.2.4\n",
      "    Uninstalling numpy-2.2.4:\n",
      "      Successfully uninstalled numpy-2.2.4\n",
      "Successfully installed numpy-1.26.4\n",
      "Downloading from https://www.kaggle.com/api/v1/datasets/download/niharika41298/yoga-poses-dataset?dataset_version_number=1...\n"
     ]
    },
    {
     "name": "stderr",
     "output_type": "stream",
     "text": [
      "  1%|          | 3.00M/288M [01:15<2:00:09, 41.4kB/s]\n"
     ]
    },
    {
     "ename": "KeyboardInterrupt",
     "evalue": "",
     "output_type": "error",
     "traceback": [
      "\u001B[1;31m---------------------------------------------------------------------------\u001B[0m",
      "\u001B[1;31mKeyboardInterrupt\u001B[0m                         Traceback (most recent call last)",
      "Cell \u001B[1;32mIn[1], line 7\u001B[0m\n\u001B[0;32m      4\u001B[0m \u001B[38;5;28;01mimport\u001B[39;00m \u001B[38;5;21;01mkagglehub\u001B[39;00m\n\u001B[0;32m      6\u001B[0m \u001B[38;5;66;03m# Download latest version\u001B[39;00m\n\u001B[1;32m----> 7\u001B[0m dataset_path \u001B[38;5;241m=\u001B[39m \u001B[43mkagglehub\u001B[49m\u001B[38;5;241;43m.\u001B[39;49m\u001B[43mdataset_download\u001B[49m\u001B[43m(\u001B[49m\u001B[38;5;124;43m\"\u001B[39;49m\u001B[38;5;124;43mniharika41298/yoga-poses-dataset\u001B[39;49m\u001B[38;5;124;43m\"\u001B[39;49m\u001B[43m)\u001B[49m\n\u001B[0;32m      9\u001B[0m \u001B[38;5;28mprint\u001B[39m(\u001B[38;5;124m\"\u001B[39m\u001B[38;5;124mPath to dataset files:\u001B[39m\u001B[38;5;124m\"\u001B[39m, dataset_path)\n",
      "File \u001B[1;32m~\\AppData\\Local\\Packages\\PythonSoftwareFoundation.Python.3.12_qbz5n2kfra8p0\\LocalCache\\local-packages\\Python312\\site-packages\\kagglehub\\datasets.py:43\u001B[0m, in \u001B[0;36mdataset_download\u001B[1;34m(handle, path, force_download)\u001B[0m\n\u001B[0;32m     41\u001B[0m h \u001B[38;5;241m=\u001B[39m parse_dataset_handle(handle)\n\u001B[0;32m     42\u001B[0m logger\u001B[38;5;241m.\u001B[39minfo(\u001B[38;5;124mf\u001B[39m\u001B[38;5;124m\"\u001B[39m\u001B[38;5;124mDownloading Dataset: \u001B[39m\u001B[38;5;132;01m{\u001B[39;00mh\u001B[38;5;241m.\u001B[39mto_url()\u001B[38;5;132;01m}\u001B[39;00m\u001B[38;5;124m ...\u001B[39m\u001B[38;5;124m\"\u001B[39m, extra\u001B[38;5;241m=\u001B[39m{\u001B[38;5;241m*\u001B[39m\u001B[38;5;241m*\u001B[39mEXTRA_CONSOLE_BLOCK})\n\u001B[1;32m---> 43\u001B[0m path, _ \u001B[38;5;241m=\u001B[39m \u001B[43mregistry\u001B[49m\u001B[38;5;241;43m.\u001B[39;49m\u001B[43mdataset_resolver\u001B[49m\u001B[43m(\u001B[49m\u001B[43mh\u001B[49m\u001B[43m,\u001B[49m\u001B[43m \u001B[49m\u001B[43mpath\u001B[49m\u001B[43m,\u001B[49m\u001B[43m \u001B[49m\u001B[43mforce_download\u001B[49m\u001B[38;5;241;43m=\u001B[39;49m\u001B[43mforce_download\u001B[49m\u001B[43m)\u001B[49m\n\u001B[0;32m     44\u001B[0m \u001B[38;5;28;01mreturn\u001B[39;00m path\n",
      "File \u001B[1;32m~\\AppData\\Local\\Packages\\PythonSoftwareFoundation.Python.3.12_qbz5n2kfra8p0\\LocalCache\\local-packages\\Python312\\site-packages\\kagglehub\\registry.py:28\u001B[0m, in \u001B[0;36mMultiImplRegistry.__call__\u001B[1;34m(self, *args, **kwargs)\u001B[0m\n\u001B[0;32m     26\u001B[0m \u001B[38;5;28;01mfor\u001B[39;00m impl \u001B[38;5;129;01min\u001B[39;00m \u001B[38;5;28mreversed\u001B[39m(\u001B[38;5;28mself\u001B[39m\u001B[38;5;241m.\u001B[39m_impls):\n\u001B[0;32m     27\u001B[0m     \u001B[38;5;28;01mif\u001B[39;00m impl\u001B[38;5;241m.\u001B[39mis_supported(\u001B[38;5;241m*\u001B[39margs, \u001B[38;5;241m*\u001B[39m\u001B[38;5;241m*\u001B[39mkwargs):\n\u001B[1;32m---> 28\u001B[0m         \u001B[38;5;28;01mreturn\u001B[39;00m \u001B[43mimpl\u001B[49m\u001B[43m(\u001B[49m\u001B[38;5;241;43m*\u001B[39;49m\u001B[43margs\u001B[49m\u001B[43m,\u001B[49m\u001B[43m \u001B[49m\u001B[38;5;241;43m*\u001B[39;49m\u001B[38;5;241;43m*\u001B[39;49m\u001B[43mkwargs\u001B[49m\u001B[43m)\u001B[49m\n\u001B[0;32m     29\u001B[0m     \u001B[38;5;28;01melse\u001B[39;00m:\n\u001B[0;32m     30\u001B[0m         fails\u001B[38;5;241m.\u001B[39mappend(\u001B[38;5;28mtype\u001B[39m(impl)\u001B[38;5;241m.\u001B[39m\u001B[38;5;18m__name__\u001B[39m)\n",
      "File \u001B[1;32m~\\AppData\\Local\\Packages\\PythonSoftwareFoundation.Python.3.12_qbz5n2kfra8p0\\LocalCache\\local-packages\\Python312\\site-packages\\kagglehub\\resolver.py:29\u001B[0m, in \u001B[0;36mResolver.__call__\u001B[1;34m(self, handle, path, force_download)\u001B[0m\n\u001B[0;32m     15\u001B[0m \u001B[38;5;28;01mdef\u001B[39;00m \u001B[38;5;21m__call__\u001B[39m(\n\u001B[0;32m     16\u001B[0m     \u001B[38;5;28mself\u001B[39m, handle: T, path: Optional[\u001B[38;5;28mstr\u001B[39m] \u001B[38;5;241m=\u001B[39m \u001B[38;5;28;01mNone\u001B[39;00m, \u001B[38;5;241m*\u001B[39m, force_download: Optional[\u001B[38;5;28mbool\u001B[39m] \u001B[38;5;241m=\u001B[39m \u001B[38;5;28;01mFalse\u001B[39;00m\n\u001B[0;32m     17\u001B[0m ) \u001B[38;5;241m-\u001B[39m\u001B[38;5;241m>\u001B[39m \u001B[38;5;28mtuple\u001B[39m[\u001B[38;5;28mstr\u001B[39m, Optional[\u001B[38;5;28mint\u001B[39m]]:\n\u001B[0;32m     18\u001B[0m \u001B[38;5;250m    \u001B[39m\u001B[38;5;124;03m\"\"\"Resolves a handle into a path with the requested file(s) and the resource's version number.\u001B[39;00m\n\u001B[0;32m     19\u001B[0m \n\u001B[0;32m     20\u001B[0m \u001B[38;5;124;03m    Args:\u001B[39;00m\n\u001B[1;32m   (...)\u001B[0m\n\u001B[0;32m     27\u001B[0m \u001B[38;5;124;03m        Some cases where version number might be missing: Competition datasource, API-based models.\u001B[39;00m\n\u001B[0;32m     28\u001B[0m \u001B[38;5;124;03m    \"\"\"\u001B[39;00m\n\u001B[1;32m---> 29\u001B[0m     path, version \u001B[38;5;241m=\u001B[39m \u001B[38;5;28;43mself\u001B[39;49m\u001B[38;5;241;43m.\u001B[39;49m\u001B[43m_resolve\u001B[49m\u001B[43m(\u001B[49m\u001B[43mhandle\u001B[49m\u001B[43m,\u001B[49m\u001B[43m \u001B[49m\u001B[43mpath\u001B[49m\u001B[43m,\u001B[49m\u001B[43m \u001B[49m\u001B[43mforce_download\u001B[49m\u001B[38;5;241;43m=\u001B[39;49m\u001B[43mforce_download\u001B[49m\u001B[43m)\u001B[49m\n\u001B[0;32m     31\u001B[0m     \u001B[38;5;66;03m# Note handles are immutable, so _resolve() could not have altered our reference\u001B[39;00m\n\u001B[0;32m     32\u001B[0m     register_datasource_access(handle, version)\n",
      "File \u001B[1;32m~\\AppData\\Local\\Packages\\PythonSoftwareFoundation.Python.3.12_qbz5n2kfra8p0\\LocalCache\\local-packages\\Python312\\site-packages\\kagglehub\\http_resolver.py:130\u001B[0m, in \u001B[0;36mDatasetHttpResolver._resolve\u001B[1;34m(self, h, path, force_download)\u001B[0m\n\u001B[0;32m    127\u001B[0m os\u001B[38;5;241m.\u001B[39mmakedirs(os\u001B[38;5;241m.\u001B[39mpath\u001B[38;5;241m.\u001B[39mdirname(archive_path), exist_ok\u001B[38;5;241m=\u001B[39m\u001B[38;5;28;01mTrue\u001B[39;00m)\n\u001B[0;32m    129\u001B[0m \u001B[38;5;66;03m# First, we download the archive.\u001B[39;00m\n\u001B[1;32m--> 130\u001B[0m \u001B[43mapi_client\u001B[49m\u001B[38;5;241;43m.\u001B[39;49m\u001B[43mdownload_file\u001B[49m\u001B[43m(\u001B[49m\u001B[43murl_path\u001B[49m\u001B[43m,\u001B[49m\u001B[43m \u001B[49m\u001B[43marchive_path\u001B[49m\u001B[43m,\u001B[49m\u001B[43m \u001B[49m\u001B[43mh\u001B[49m\u001B[43m)\u001B[49m\n\u001B[0;32m    132\u001B[0m _extract_archive(archive_path, out_path)\n\u001B[0;32m    134\u001B[0m \u001B[38;5;66;03m# Delete the archive\u001B[39;00m\n",
      "File \u001B[1;32m~\\AppData\\Local\\Packages\\PythonSoftwareFoundation.Python.3.12_qbz5n2kfra8p0\\LocalCache\\local-packages\\Python312\\site-packages\\kagglehub\\clients.py:217\u001B[0m, in \u001B[0;36mKaggleApiV1Client.download_file\u001B[1;34m(self, path, out_file, resource_handle, cached_path, extract_auto_compressed_file)\u001B[0m\n\u001B[0;32m    215\u001B[0m \u001B[38;5;28;01melse\u001B[39;00m:\n\u001B[0;32m    216\u001B[0m     logger\u001B[38;5;241m.\u001B[39minfo(\u001B[38;5;124mf\u001B[39m\u001B[38;5;124m\"\u001B[39m\u001B[38;5;124mDownloading from \u001B[39m\u001B[38;5;132;01m{\u001B[39;00murl\u001B[38;5;132;01m}\u001B[39;00m\u001B[38;5;124m...\u001B[39m\u001B[38;5;124m\"\u001B[39m)\n\u001B[1;32m--> 217\u001B[0m     \u001B[43m_download_file\u001B[49m\u001B[43m(\u001B[49m\u001B[43mresponse\u001B[49m\u001B[43m,\u001B[49m\u001B[43m \u001B[49m\u001B[43mout_file\u001B[49m\u001B[43m,\u001B[49m\u001B[43m \u001B[49m\u001B[43msize_read\u001B[49m\u001B[43m,\u001B[49m\u001B[43m \u001B[49m\u001B[43mtotal_size\u001B[49m\u001B[43m,\u001B[49m\u001B[43m \u001B[49m\u001B[43mhash_object\u001B[49m\u001B[43m)\u001B[49m\n\u001B[0;32m    219\u001B[0m \u001B[38;5;28;01mif\u001B[39;00m hash_object:\n\u001B[0;32m    220\u001B[0m     actual_md5_hash \u001B[38;5;241m=\u001B[39m to_b64_digest(hash_object)\n",
      "File \u001B[1;32m~\\AppData\\Local\\Packages\\PythonSoftwareFoundation.Python.3.12_qbz5n2kfra8p0\\LocalCache\\local-packages\\Python312\\site-packages\\kagglehub\\clients.py:276\u001B[0m, in \u001B[0;36m_download_file\u001B[1;34m(response, out_file, size_read, total_size, hash_object)\u001B[0m\n\u001B[0;32m    274\u001B[0m \u001B[38;5;28;01mwith\u001B[39;00m tqdm(total\u001B[38;5;241m=\u001B[39mtotal_size, initial\u001B[38;5;241m=\u001B[39msize_read, unit\u001B[38;5;241m=\u001B[39m\u001B[38;5;124m\"\u001B[39m\u001B[38;5;124mB\u001B[39m\u001B[38;5;124m\"\u001B[39m, unit_scale\u001B[38;5;241m=\u001B[39m\u001B[38;5;28;01mTrue\u001B[39;00m, unit_divisor\u001B[38;5;241m=\u001B[39m\u001B[38;5;241m1024\u001B[39m) \u001B[38;5;28;01mas\u001B[39;00m progress_bar:\n\u001B[0;32m    275\u001B[0m     \u001B[38;5;28;01mwith\u001B[39;00m \u001B[38;5;28mopen\u001B[39m(out_file, open_mode) \u001B[38;5;28;01mas\u001B[39;00m f:\n\u001B[1;32m--> 276\u001B[0m \u001B[43m        \u001B[49m\u001B[38;5;28;43;01mfor\u001B[39;49;00m\u001B[43m \u001B[49m\u001B[43mchunk\u001B[49m\u001B[43m \u001B[49m\u001B[38;5;129;43;01min\u001B[39;49;00m\u001B[43m \u001B[49m\u001B[43mresponse\u001B[49m\u001B[38;5;241;43m.\u001B[39;49m\u001B[43miter_content\u001B[49m\u001B[43m(\u001B[49m\u001B[43mCHUNK_SIZE\u001B[49m\u001B[43m)\u001B[49m\u001B[43m:\u001B[49m\n\u001B[0;32m    277\u001B[0m \u001B[43m            \u001B[49m\u001B[43mf\u001B[49m\u001B[38;5;241;43m.\u001B[39;49m\u001B[43mwrite\u001B[49m\u001B[43m(\u001B[49m\u001B[43mchunk\u001B[49m\u001B[43m)\u001B[49m\n\u001B[0;32m    278\u001B[0m \u001B[43m            \u001B[49m\u001B[38;5;28;43;01mif\u001B[39;49;00m\u001B[43m \u001B[49m\u001B[43mhash_object\u001B[49m\u001B[43m:\u001B[49m\n",
      "File \u001B[1;32mE:\\Projects\\machine-learning\\.venv\\Lib\\site-packages\\requests\\models.py:820\u001B[0m, in \u001B[0;36mResponse.iter_content.<locals>.generate\u001B[1;34m()\u001B[0m\n\u001B[0;32m    818\u001B[0m \u001B[38;5;28;01mif\u001B[39;00m \u001B[38;5;28mhasattr\u001B[39m(\u001B[38;5;28mself\u001B[39m\u001B[38;5;241m.\u001B[39mraw, \u001B[38;5;124m\"\u001B[39m\u001B[38;5;124mstream\u001B[39m\u001B[38;5;124m\"\u001B[39m):\n\u001B[0;32m    819\u001B[0m     \u001B[38;5;28;01mtry\u001B[39;00m:\n\u001B[1;32m--> 820\u001B[0m         \u001B[38;5;28;01myield from\u001B[39;00m \u001B[38;5;28mself\u001B[39m\u001B[38;5;241m.\u001B[39mraw\u001B[38;5;241m.\u001B[39mstream(chunk_size, decode_content\u001B[38;5;241m=\u001B[39m\u001B[38;5;28;01mTrue\u001B[39;00m)\n\u001B[0;32m    821\u001B[0m     \u001B[38;5;28;01mexcept\u001B[39;00m ProtocolError \u001B[38;5;28;01mas\u001B[39;00m e:\n\u001B[0;32m    822\u001B[0m         \u001B[38;5;28;01mraise\u001B[39;00m ChunkedEncodingError(e)\n",
      "File \u001B[1;32mE:\\Projects\\machine-learning\\.venv\\Lib\\site-packages\\urllib3\\response.py:1066\u001B[0m, in \u001B[0;36mHTTPResponse.stream\u001B[1;34m(self, amt, decode_content)\u001B[0m\n\u001B[0;32m   1064\u001B[0m \u001B[38;5;28;01melse\u001B[39;00m:\n\u001B[0;32m   1065\u001B[0m     \u001B[38;5;28;01mwhile\u001B[39;00m \u001B[38;5;129;01mnot\u001B[39;00m is_fp_closed(\u001B[38;5;28mself\u001B[39m\u001B[38;5;241m.\u001B[39m_fp) \u001B[38;5;129;01mor\u001B[39;00m \u001B[38;5;28mlen\u001B[39m(\u001B[38;5;28mself\u001B[39m\u001B[38;5;241m.\u001B[39m_decoded_buffer) \u001B[38;5;241m>\u001B[39m \u001B[38;5;241m0\u001B[39m:\n\u001B[1;32m-> 1066\u001B[0m         data \u001B[38;5;241m=\u001B[39m \u001B[38;5;28;43mself\u001B[39;49m\u001B[38;5;241;43m.\u001B[39;49m\u001B[43mread\u001B[49m\u001B[43m(\u001B[49m\u001B[43mamt\u001B[49m\u001B[38;5;241;43m=\u001B[39;49m\u001B[43mamt\u001B[49m\u001B[43m,\u001B[49m\u001B[43m \u001B[49m\u001B[43mdecode_content\u001B[49m\u001B[38;5;241;43m=\u001B[39;49m\u001B[43mdecode_content\u001B[49m\u001B[43m)\u001B[49m\n\u001B[0;32m   1068\u001B[0m         \u001B[38;5;28;01mif\u001B[39;00m data:\n\u001B[0;32m   1069\u001B[0m             \u001B[38;5;28;01myield\u001B[39;00m data\n",
      "File \u001B[1;32mE:\\Projects\\machine-learning\\.venv\\Lib\\site-packages\\urllib3\\response.py:955\u001B[0m, in \u001B[0;36mHTTPResponse.read\u001B[1;34m(self, amt, decode_content, cache_content)\u001B[0m\n\u001B[0;32m    952\u001B[0m     \u001B[38;5;28;01mif\u001B[39;00m \u001B[38;5;28mlen\u001B[39m(\u001B[38;5;28mself\u001B[39m\u001B[38;5;241m.\u001B[39m_decoded_buffer) \u001B[38;5;241m>\u001B[39m\u001B[38;5;241m=\u001B[39m amt:\n\u001B[0;32m    953\u001B[0m         \u001B[38;5;28;01mreturn\u001B[39;00m \u001B[38;5;28mself\u001B[39m\u001B[38;5;241m.\u001B[39m_decoded_buffer\u001B[38;5;241m.\u001B[39mget(amt)\n\u001B[1;32m--> 955\u001B[0m data \u001B[38;5;241m=\u001B[39m \u001B[38;5;28;43mself\u001B[39;49m\u001B[38;5;241;43m.\u001B[39;49m\u001B[43m_raw_read\u001B[49m\u001B[43m(\u001B[49m\u001B[43mamt\u001B[49m\u001B[43m)\u001B[49m\n\u001B[0;32m    957\u001B[0m flush_decoder \u001B[38;5;241m=\u001B[39m amt \u001B[38;5;129;01mis\u001B[39;00m \u001B[38;5;28;01mNone\u001B[39;00m \u001B[38;5;129;01mor\u001B[39;00m (amt \u001B[38;5;241m!=\u001B[39m \u001B[38;5;241m0\u001B[39m \u001B[38;5;129;01mand\u001B[39;00m \u001B[38;5;129;01mnot\u001B[39;00m data)\n\u001B[0;32m    959\u001B[0m \u001B[38;5;28;01mif\u001B[39;00m \u001B[38;5;129;01mnot\u001B[39;00m data \u001B[38;5;129;01mand\u001B[39;00m \u001B[38;5;28mlen\u001B[39m(\u001B[38;5;28mself\u001B[39m\u001B[38;5;241m.\u001B[39m_decoded_buffer) \u001B[38;5;241m==\u001B[39m \u001B[38;5;241m0\u001B[39m:\n",
      "File \u001B[1;32mE:\\Projects\\machine-learning\\.venv\\Lib\\site-packages\\urllib3\\response.py:879\u001B[0m, in \u001B[0;36mHTTPResponse._raw_read\u001B[1;34m(self, amt, read1)\u001B[0m\n\u001B[0;32m    876\u001B[0m fp_closed \u001B[38;5;241m=\u001B[39m \u001B[38;5;28mgetattr\u001B[39m(\u001B[38;5;28mself\u001B[39m\u001B[38;5;241m.\u001B[39m_fp, \u001B[38;5;124m\"\u001B[39m\u001B[38;5;124mclosed\u001B[39m\u001B[38;5;124m\"\u001B[39m, \u001B[38;5;28;01mFalse\u001B[39;00m)\n\u001B[0;32m    878\u001B[0m \u001B[38;5;28;01mwith\u001B[39;00m \u001B[38;5;28mself\u001B[39m\u001B[38;5;241m.\u001B[39m_error_catcher():\n\u001B[1;32m--> 879\u001B[0m     data \u001B[38;5;241m=\u001B[39m \u001B[38;5;28;43mself\u001B[39;49m\u001B[38;5;241;43m.\u001B[39;49m\u001B[43m_fp_read\u001B[49m\u001B[43m(\u001B[49m\u001B[43mamt\u001B[49m\u001B[43m,\u001B[49m\u001B[43m \u001B[49m\u001B[43mread1\u001B[49m\u001B[38;5;241;43m=\u001B[39;49m\u001B[43mread1\u001B[49m\u001B[43m)\u001B[49m \u001B[38;5;28;01mif\u001B[39;00m \u001B[38;5;129;01mnot\u001B[39;00m fp_closed \u001B[38;5;28;01melse\u001B[39;00m \u001B[38;5;124mb\u001B[39m\u001B[38;5;124m\"\u001B[39m\u001B[38;5;124m\"\u001B[39m\n\u001B[0;32m    880\u001B[0m     \u001B[38;5;28;01mif\u001B[39;00m amt \u001B[38;5;129;01mis\u001B[39;00m \u001B[38;5;129;01mnot\u001B[39;00m \u001B[38;5;28;01mNone\u001B[39;00m \u001B[38;5;129;01mand\u001B[39;00m amt \u001B[38;5;241m!=\u001B[39m \u001B[38;5;241m0\u001B[39m \u001B[38;5;129;01mand\u001B[39;00m \u001B[38;5;129;01mnot\u001B[39;00m data:\n\u001B[0;32m    881\u001B[0m         \u001B[38;5;66;03m# Platform-specific: Buggy versions of Python.\u001B[39;00m\n\u001B[0;32m    882\u001B[0m         \u001B[38;5;66;03m# Close the connection when no data is returned\u001B[39;00m\n\u001B[1;32m   (...)\u001B[0m\n\u001B[0;32m    887\u001B[0m         \u001B[38;5;66;03m# not properly close the connection in all cases. There is\u001B[39;00m\n\u001B[0;32m    888\u001B[0m         \u001B[38;5;66;03m# no harm in redundantly calling close.\u001B[39;00m\n\u001B[0;32m    889\u001B[0m         \u001B[38;5;28mself\u001B[39m\u001B[38;5;241m.\u001B[39m_fp\u001B[38;5;241m.\u001B[39mclose()\n",
      "File \u001B[1;32mE:\\Projects\\machine-learning\\.venv\\Lib\\site-packages\\urllib3\\response.py:862\u001B[0m, in \u001B[0;36mHTTPResponse._fp_read\u001B[1;34m(self, amt, read1)\u001B[0m\n\u001B[0;32m    859\u001B[0m     \u001B[38;5;28;01mreturn\u001B[39;00m \u001B[38;5;28mself\u001B[39m\u001B[38;5;241m.\u001B[39m_fp\u001B[38;5;241m.\u001B[39mread1(amt) \u001B[38;5;28;01mif\u001B[39;00m amt \u001B[38;5;129;01mis\u001B[39;00m \u001B[38;5;129;01mnot\u001B[39;00m \u001B[38;5;28;01mNone\u001B[39;00m \u001B[38;5;28;01melse\u001B[39;00m \u001B[38;5;28mself\u001B[39m\u001B[38;5;241m.\u001B[39m_fp\u001B[38;5;241m.\u001B[39mread1()\n\u001B[0;32m    860\u001B[0m \u001B[38;5;28;01melse\u001B[39;00m:\n\u001B[0;32m    861\u001B[0m     \u001B[38;5;66;03m# StringIO doesn't like amt=None\u001B[39;00m\n\u001B[1;32m--> 862\u001B[0m     \u001B[38;5;28;01mreturn\u001B[39;00m \u001B[38;5;28;43mself\u001B[39;49m\u001B[38;5;241;43m.\u001B[39;49m\u001B[43m_fp\u001B[49m\u001B[38;5;241;43m.\u001B[39;49m\u001B[43mread\u001B[49m\u001B[43m(\u001B[49m\u001B[43mamt\u001B[49m\u001B[43m)\u001B[49m \u001B[38;5;28;01mif\u001B[39;00m amt \u001B[38;5;129;01mis\u001B[39;00m \u001B[38;5;129;01mnot\u001B[39;00m \u001B[38;5;28;01mNone\u001B[39;00m \u001B[38;5;28;01melse\u001B[39;00m \u001B[38;5;28mself\u001B[39m\u001B[38;5;241m.\u001B[39m_fp\u001B[38;5;241m.\u001B[39mread()\n",
      "File \u001B[1;32mC:\\Program Files\\WindowsApps\\PythonSoftwareFoundation.Python.3.12_3.12.2800.0_x64__qbz5n2kfra8p0\\Lib\\http\\client.py:479\u001B[0m, in \u001B[0;36mHTTPResponse.read\u001B[1;34m(self, amt)\u001B[0m\n\u001B[0;32m    476\u001B[0m \u001B[38;5;28;01mif\u001B[39;00m \u001B[38;5;28mself\u001B[39m\u001B[38;5;241m.\u001B[39mlength \u001B[38;5;129;01mis\u001B[39;00m \u001B[38;5;129;01mnot\u001B[39;00m \u001B[38;5;28;01mNone\u001B[39;00m \u001B[38;5;129;01mand\u001B[39;00m amt \u001B[38;5;241m>\u001B[39m \u001B[38;5;28mself\u001B[39m\u001B[38;5;241m.\u001B[39mlength:\n\u001B[0;32m    477\u001B[0m     \u001B[38;5;66;03m# clip the read to the \"end of response\"\u001B[39;00m\n\u001B[0;32m    478\u001B[0m     amt \u001B[38;5;241m=\u001B[39m \u001B[38;5;28mself\u001B[39m\u001B[38;5;241m.\u001B[39mlength\n\u001B[1;32m--> 479\u001B[0m s \u001B[38;5;241m=\u001B[39m \u001B[38;5;28;43mself\u001B[39;49m\u001B[38;5;241;43m.\u001B[39;49m\u001B[43mfp\u001B[49m\u001B[38;5;241;43m.\u001B[39;49m\u001B[43mread\u001B[49m\u001B[43m(\u001B[49m\u001B[43mamt\u001B[49m\u001B[43m)\u001B[49m\n\u001B[0;32m    480\u001B[0m \u001B[38;5;28;01mif\u001B[39;00m \u001B[38;5;129;01mnot\u001B[39;00m s \u001B[38;5;129;01mand\u001B[39;00m amt:\n\u001B[0;32m    481\u001B[0m     \u001B[38;5;66;03m# Ideally, we would raise IncompleteRead if the content-length\u001B[39;00m\n\u001B[0;32m    482\u001B[0m     \u001B[38;5;66;03m# wasn't satisfied, but it might break compatibility.\u001B[39;00m\n\u001B[0;32m    483\u001B[0m     \u001B[38;5;28mself\u001B[39m\u001B[38;5;241m.\u001B[39m_close_conn()\n",
      "File \u001B[1;32mC:\\Program Files\\WindowsApps\\PythonSoftwareFoundation.Python.3.12_3.12.2800.0_x64__qbz5n2kfra8p0\\Lib\\socket.py:720\u001B[0m, in \u001B[0;36mSocketIO.readinto\u001B[1;34m(self, b)\u001B[0m\n\u001B[0;32m    718\u001B[0m \u001B[38;5;28;01mwhile\u001B[39;00m \u001B[38;5;28;01mTrue\u001B[39;00m:\n\u001B[0;32m    719\u001B[0m     \u001B[38;5;28;01mtry\u001B[39;00m:\n\u001B[1;32m--> 720\u001B[0m         \u001B[38;5;28;01mreturn\u001B[39;00m \u001B[38;5;28;43mself\u001B[39;49m\u001B[38;5;241;43m.\u001B[39;49m\u001B[43m_sock\u001B[49m\u001B[38;5;241;43m.\u001B[39;49m\u001B[43mrecv_into\u001B[49m\u001B[43m(\u001B[49m\u001B[43mb\u001B[49m\u001B[43m)\u001B[49m\n\u001B[0;32m    721\u001B[0m     \u001B[38;5;28;01mexcept\u001B[39;00m timeout:\n\u001B[0;32m    722\u001B[0m         \u001B[38;5;28mself\u001B[39m\u001B[38;5;241m.\u001B[39m_timeout_occurred \u001B[38;5;241m=\u001B[39m \u001B[38;5;28;01mTrue\u001B[39;00m\n",
      "File \u001B[1;32mC:\\Program Files\\WindowsApps\\PythonSoftwareFoundation.Python.3.12_3.12.2800.0_x64__qbz5n2kfra8p0\\Lib\\ssl.py:1251\u001B[0m, in \u001B[0;36mSSLSocket.recv_into\u001B[1;34m(self, buffer, nbytes, flags)\u001B[0m\n\u001B[0;32m   1247\u001B[0m     \u001B[38;5;28;01mif\u001B[39;00m flags \u001B[38;5;241m!=\u001B[39m \u001B[38;5;241m0\u001B[39m:\n\u001B[0;32m   1248\u001B[0m         \u001B[38;5;28;01mraise\u001B[39;00m \u001B[38;5;167;01mValueError\u001B[39;00m(\n\u001B[0;32m   1249\u001B[0m           \u001B[38;5;124m\"\u001B[39m\u001B[38;5;124mnon-zero flags not allowed in calls to recv_into() on \u001B[39m\u001B[38;5;132;01m%s\u001B[39;00m\u001B[38;5;124m\"\u001B[39m \u001B[38;5;241m%\u001B[39m\n\u001B[0;32m   1250\u001B[0m           \u001B[38;5;28mself\u001B[39m\u001B[38;5;241m.\u001B[39m\u001B[38;5;18m__class__\u001B[39m)\n\u001B[1;32m-> 1251\u001B[0m     \u001B[38;5;28;01mreturn\u001B[39;00m \u001B[38;5;28;43mself\u001B[39;49m\u001B[38;5;241;43m.\u001B[39;49m\u001B[43mread\u001B[49m\u001B[43m(\u001B[49m\u001B[43mnbytes\u001B[49m\u001B[43m,\u001B[49m\u001B[43m \u001B[49m\u001B[43mbuffer\u001B[49m\u001B[43m)\u001B[49m\n\u001B[0;32m   1252\u001B[0m \u001B[38;5;28;01melse\u001B[39;00m:\n\u001B[0;32m   1253\u001B[0m     \u001B[38;5;28;01mreturn\u001B[39;00m \u001B[38;5;28msuper\u001B[39m()\u001B[38;5;241m.\u001B[39mrecv_into(buffer, nbytes, flags)\n",
      "File \u001B[1;32mC:\\Program Files\\WindowsApps\\PythonSoftwareFoundation.Python.3.12_3.12.2800.0_x64__qbz5n2kfra8p0\\Lib\\ssl.py:1103\u001B[0m, in \u001B[0;36mSSLSocket.read\u001B[1;34m(self, len, buffer)\u001B[0m\n\u001B[0;32m   1101\u001B[0m \u001B[38;5;28;01mtry\u001B[39;00m:\n\u001B[0;32m   1102\u001B[0m     \u001B[38;5;28;01mif\u001B[39;00m buffer \u001B[38;5;129;01mis\u001B[39;00m \u001B[38;5;129;01mnot\u001B[39;00m \u001B[38;5;28;01mNone\u001B[39;00m:\n\u001B[1;32m-> 1103\u001B[0m         \u001B[38;5;28;01mreturn\u001B[39;00m \u001B[38;5;28;43mself\u001B[39;49m\u001B[38;5;241;43m.\u001B[39;49m\u001B[43m_sslobj\u001B[49m\u001B[38;5;241;43m.\u001B[39;49m\u001B[43mread\u001B[49m\u001B[43m(\u001B[49m\u001B[38;5;28;43mlen\u001B[39;49m\u001B[43m,\u001B[49m\u001B[43m \u001B[49m\u001B[43mbuffer\u001B[49m\u001B[43m)\u001B[49m\n\u001B[0;32m   1104\u001B[0m     \u001B[38;5;28;01melse\u001B[39;00m:\n\u001B[0;32m   1105\u001B[0m         \u001B[38;5;28;01mreturn\u001B[39;00m \u001B[38;5;28mself\u001B[39m\u001B[38;5;241m.\u001B[39m_sslobj\u001B[38;5;241m.\u001B[39mread(\u001B[38;5;28mlen\u001B[39m)\n",
      "\u001B[1;31mKeyboardInterrupt\u001B[0m: "
     ]
    }
   ],
   "execution_count": 1
  },
  {
   "cell_type": "code",
   "execution_count": 3,
   "id": "16931c8b-9598-4408-a831-ee1d4570fc27",
   "metadata": {},
   "outputs": [
    {
     "name": "stderr",
     "output_type": "stream",
     "text": [
      "Processing downdog: 100%|██████████| 222/222 [00:15<00:00, 14.66it/s]\n",
      "Processing goddess: 100%|██████████| 180/180 [00:21<00:00,  8.51it/s]\n",
      "Processing plank: 100%|██████████| 266/266 [00:24<00:00, 10.82it/s]\n",
      "Processing tree: 100%|██████████| 160/160 [00:20<00:00,  7.83it/s]\n",
      "Processing warrior2: 100%|██████████| 252/252 [00:23<00:00, 10.53it/s]\n"
     ]
    }
   ],
   "source": [
    "import os\n",
    "import cv2\n",
    "import numpy as np\n",
    "import pandas as pd\n",
    "import pickle\n",
    "from tqdm import tqdm\n",
    "import mediapipe as mp\n",
    "\n",
    "# Initialize MediaPipe Pose\n",
    "mp_pose = mp.solutions.pose\n",
    "pose = mp_pose.Pose(static_image_mode=True, min_detection_confidence=0.5)\n",
    "\n",
    "def calculate_angle(a, b, c):\n",
    "    \"\"\"Calculate the angle between three points\"\"\"\n",
    "    a, b, c = np.array(a), np.array(b), np.array(c)\n",
    "    ba = a - b\n",
    "    bc = c - b\n",
    "    cosine_angle = np.dot(ba, bc) / (np.linalg.norm(ba) * np.linalg.norm(bc))\n",
    "    return np.degrees(np.arccos(np.clip(cosine_angle, -1, 1)))\n",
    "\n",
    "def extract_features(image_path):\n",
    "    \"\"\"Extract both image and biomechanical features from a single image\"\"\"\n",
    "    img = cv2.imread(image_path)\n",
    "    if img is None:\n",
    "        return None\n",
    "    \n",
    "    # Process image with MediaPipe\n",
    "    results = pose.process(cv2.cvtColor(img, cv2.COLOR_BGR2RGB))\n",
    "    \n",
    "    if not results.pose_landmarks:\n",
    "        return None\n",
    "    \n",
    "    # Get landmarks\n",
    "    landmarks = results.pose_landmarks.landmark\n",
    "    \n",
    "    # Calculate key angles\n",
    "    points = {\n",
    "        'left_shoulder': [landmarks[11].x, landmarks[11].y],\n",
    "        'right_shoulder': [landmarks[12].x, landmarks[12].y],\n",
    "        'left_elbow': [landmarks[13].x, landmarks[13].y],\n",
    "        'right_elbow': [landmarks[14].x, landmarks[14].y],\n",
    "        'left_wrist': [landmarks[15].x, landmarks[15].y],\n",
    "        'right_wrist': [landmarks[16].x, landmarks[16].y],\n",
    "        'left_hip': [landmarks[23].x, landmarks[23].y],\n",
    "        'right_hip': [landmarks[24].x, landmarks[24].y],\n",
    "        'left_knee': [landmarks[25].x, landmarks[25].y],\n",
    "        'right_knee': [landmarks[26].x, landmarks[26].y],\n",
    "        'left_ankle': [landmarks[27].x, landmarks[27].y],\n",
    "        'right_ankle': [landmarks[28].x, landmarks[28].y]\n",
    "    }\n",
    "    \n",
    "    angles = {\n",
    "        'left_elbow': calculate_angle(points['left_shoulder'], points['left_elbow'], points['left_wrist']),\n",
    "        'right_elbow': calculate_angle(points['right_shoulder'], points['right_elbow'], points['right_wrist']),\n",
    "        'left_shoulder': calculate_angle(points['left_elbow'], points['left_shoulder'], points['left_hip']),\n",
    "        'right_shoulder': calculate_angle(points['right_elbow'], points['right_shoulder'], points['right_hip']),\n",
    "        'left_hip': calculate_angle(points['left_shoulder'], points['left_hip'], points['left_knee']),\n",
    "        'right_hip': calculate_angle(points['right_shoulder'], points['right_hip'], points['right_knee']),\n",
    "        'left_knee': calculate_angle(points['left_hip'], points['left_knee'], points['left_ankle']),\n",
    "        'right_knee': calculate_angle(points['right_hip'], points['right_knee'], points['right_ankle']),\n",
    "        'spine': calculate_angle(points['left_shoulder'], points['left_hip'], points['left_ankle'])\n",
    "    }\n",
    "    \n",
    "    # Prepare image for CNN\n",
    "    img_resized = cv2.resize(img, (224, 224))\n",
    "    img_normalized = img_resized / 255.0\n",
    "    \n",
    "    return {\n",
    "        'image': img_normalized,\n",
    "        'angles': list(angles.values()),\n",
    "        'landmarks': points\n",
    "    }\n",
    "\n",
    "def process_dataset(dataset_path):\n",
    "    \"\"\"Process entire dataset and save features\"\"\"\n",
    "    data = []\n",
    "    pose_classes = [d for d in os.listdir(dataset_path) \n",
    "                   if os.path.isdir(os.path.join(dataset_path, d))]\n",
    "    \n",
    "    for pose_class in pose_classes:\n",
    "        class_dir = os.path.join(dataset_path, pose_class)\n",
    "        image_files = [f for f in os.listdir(class_dir) \n",
    "                      if f.lower().endswith(('.png', '.jpg', '.jpeg'))]\n",
    "        \n",
    "        for img_file in tqdm(image_files, desc=f\"Processing {pose_class}\"):\n",
    "            img_path = os.path.join(class_dir, img_file)\n",
    "            features = extract_features(img_path)\n",
    "            \n",
    "            if features is not None:\n",
    "                features['class'] = pose_class\n",
    "                data.append(features)\n",
    "    \n",
    "    # Convert to DataFrame\n",
    "    df = pd.DataFrame(data)\n",
    "    \n",
    "    # Save processed data\n",
    "    df.to_pickle('yoga_dataset_processed.pkl')\n",
    "    \n",
    "    # Calculate pose standards\n",
    "    pose_standards = df.groupby('class')['angles'].apply(\n",
    "        lambda x: {\n",
    "            'median': np.median(np.vstack(x), axis=0),\n",
    "            'std': np.std(np.vstack(x), axis=0)\n",
    "        }\n",
    "    ).to_dict()\n",
    "    \n",
    "    with open('pose_standards.pkl', 'wb') as f:\n",
    "        pickle.dump(pose_standards, f)\n",
    "    \n",
    "    return df, pose_standards\n",
    "\n",
    "if __name__ == \"__main__\":\n",
    "    dataset_path = r\"C:\\Users\\gheri\\.cache\\kagglehub\\datasets\\niharika41298\\yoga-poses-dataset\\versions\\1\\DATASET\\TRAIN\"\n",
    "    df, standards = process_dataset(dataset_path)"
   ]
  },
  {
   "cell_type": "code",
   "execution_count": 5,
   "id": "0c6c882d-fd37-4189-ad0c-45c03834a6a8",
   "metadata": {},
   "outputs": [
    {
     "name": "stdout",
     "output_type": "stream",
     "text": [
      "Epoch 1/10\n",
      "\u001B[1m26/26\u001B[0m \u001B[32m━━━━━━━━━━━━━━━━━━━━\u001B[0m\u001B[37m\u001B[0m \u001B[1m0s\u001B[0m 1s/step - accuracy: 0.2725 - loss: 23.8504"
     ]
    },
    {
     "name": "stderr",
     "output_type": "stream",
     "text": [
      "WARNING:absl:You are saving your model as an HDF5 file via `model.save()` or `keras.saving.save_model(model)`. This file format is considered legacy. We recommend using instead the native Keras format, e.g. `model.save('my_model.keras')` or `keras.saving.save_model(model, 'my_model.keras')`. \n"
     ]
    },
    {
     "name": "stdout",
     "output_type": "stream",
     "text": [
      "\u001B[1m26/26\u001B[0m \u001B[32m━━━━━━━━━━━━━━━━━━━━\u001B[0m\u001B[37m\u001B[0m \u001B[1m36s\u001B[0m 1s/step - accuracy: 0.2735 - loss: 23.7269 - val_accuracy: 0.5789 - val_loss: 3.3711 - learning_rate: 0.0010\n",
      "Epoch 2/10\n",
      "\u001B[1m26/26\u001B[0m \u001B[32m━━━━━━━━━━━━━━━━━━━━\u001B[0m\u001B[37m\u001B[0m \u001B[1m0s\u001B[0m 2s/step - accuracy: 0.4674 - loss: 8.3821"
     ]
    },
    {
     "name": "stderr",
     "output_type": "stream",
     "text": [
      "WARNING:absl:You are saving your model as an HDF5 file via `model.save()` or `keras.saving.save_model(model)`. This file format is considered legacy. We recommend using instead the native Keras format, e.g. `model.save('my_model.keras')` or `keras.saving.save_model(model, 'my_model.keras')`. \n"
     ]
    },
    {
     "name": "stdout",
     "output_type": "stream",
     "text": [
      "\u001B[1m26/26\u001B[0m \u001B[32m━━━━━━━━━━━━━━━━━━━━\u001B[0m\u001B[37m\u001B[0m \u001B[1m42s\u001B[0m 2s/step - accuracy: 0.4687 - loss: 8.3107 - val_accuracy: 0.7656 - val_loss: 1.7193 - learning_rate: 0.0010\n",
      "Epoch 3/10\n",
      "\u001B[1m26/26\u001B[0m \u001B[32m━━━━━━━━━━━━━━━━━━━━\u001B[0m\u001B[37m\u001B[0m \u001B[1m0s\u001B[0m 1s/step - accuracy: 0.6522 - loss: 2.3165"
     ]
    },
    {
     "name": "stderr",
     "output_type": "stream",
     "text": [
      "WARNING:absl:You are saving your model as an HDF5 file via `model.save()` or `keras.saving.save_model(model)`. This file format is considered legacy. We recommend using instead the native Keras format, e.g. `model.save('my_model.keras')` or `keras.saving.save_model(model, 'my_model.keras')`. \n"
     ]
    },
    {
     "name": "stdout",
     "output_type": "stream",
     "text": [
      "\u001B[1m26/26\u001B[0m \u001B[32m━━━━━━━━━━━━━━━━━━━━\u001B[0m\u001B[37m\u001B[0m \u001B[1m29s\u001B[0m 1s/step - accuracy: 0.6523 - loss: 2.3108 - val_accuracy: 0.7703 - val_loss: 0.9278 - learning_rate: 0.0010\n",
      "Epoch 4/10\n",
      "\u001B[1m26/26\u001B[0m \u001B[32m━━━━━━━━━━━━━━━━━━━━\u001B[0m\u001B[37m\u001B[0m \u001B[1m0s\u001B[0m 941ms/step - accuracy: 0.6678 - loss: 1.5080"
     ]
    },
    {
     "name": "stderr",
     "output_type": "stream",
     "text": [
      "WARNING:absl:You are saving your model as an HDF5 file via `model.save()` or `keras.saving.save_model(model)`. This file format is considered legacy. We recommend using instead the native Keras format, e.g. `model.save('my_model.keras')` or `keras.saving.save_model(model, 'my_model.keras')`. \n"
     ]
    },
    {
     "name": "stdout",
     "output_type": "stream",
     "text": [
      "\u001B[1m26/26\u001B[0m \u001B[32m━━━━━━━━━━━━━━━━━━━━\u001B[0m\u001B[37m\u001B[0m \u001B[1m26s\u001B[0m 991ms/step - accuracy: 0.6676 - loss: 1.5050 - val_accuracy: 0.8134 - val_loss: 0.8242 - learning_rate: 0.0010\n",
      "Epoch 5/10\n",
      "\u001B[1m26/26\u001B[0m \u001B[32m━━━━━━━━━━━━━━━━━━━━\u001B[0m\u001B[37m\u001B[0m \u001B[1m0s\u001B[0m 1s/step - accuracy: 0.7370 - loss: 1.0694"
     ]
    },
    {
     "name": "stderr",
     "output_type": "stream",
     "text": [
      "WARNING:absl:You are saving your model as an HDF5 file via `model.save()` or `keras.saving.save_model(model)`. This file format is considered legacy. We recommend using instead the native Keras format, e.g. `model.save('my_model.keras')` or `keras.saving.save_model(model, 'my_model.keras')`. \n"
     ]
    },
    {
     "name": "stdout",
     "output_type": "stream",
     "text": [
      "\u001B[1m26/26\u001B[0m \u001B[32m━━━━━━━━━━━━━━━━━━━━\u001B[0m\u001B[37m\u001B[0m \u001B[1m30s\u001B[0m 1s/step - accuracy: 0.7361 - loss: 1.0754 - val_accuracy: 0.8230 - val_loss: 0.7302 - learning_rate: 0.0010\n",
      "Epoch 6/10\n",
      "\u001B[1m26/26\u001B[0m \u001B[32m━━━━━━━━━━━━━━━━━━━━\u001B[0m\u001B[37m\u001B[0m \u001B[1m0s\u001B[0m 957ms/step - accuracy: 0.6987 - loss: 1.0751"
     ]
    },
    {
     "name": "stderr",
     "output_type": "stream",
     "text": [
      "WARNING:absl:You are saving your model as an HDF5 file via `model.save()` or `keras.saving.save_model(model)`. This file format is considered legacy. We recommend using instead the native Keras format, e.g. `model.save('my_model.keras')` or `keras.saving.save_model(model, 'my_model.keras')`. \n"
     ]
    },
    {
     "name": "stdout",
     "output_type": "stream",
     "text": [
      "\u001B[1m26/26\u001B[0m \u001B[32m━━━━━━━━━━━━━━━━━━━━\u001B[0m\u001B[37m\u001B[0m \u001B[1m27s\u001B[0m 1s/step - accuracy: 0.6990 - loss: 1.0732 - val_accuracy: 0.7847 - val_loss: 0.6441 - learning_rate: 0.0010\n",
      "Epoch 7/10\n",
      "\u001B[1m26/26\u001B[0m \u001B[32m━━━━━━━━━━━━━━━━━━━━\u001B[0m\u001B[37m\u001B[0m \u001B[1m0s\u001B[0m 2s/step - accuracy: 0.7130 - loss: 0.9713"
     ]
    },
    {
     "name": "stderr",
     "output_type": "stream",
     "text": [
      "WARNING:absl:You are saving your model as an HDF5 file via `model.save()` or `keras.saving.save_model(model)`. This file format is considered legacy. We recommend using instead the native Keras format, e.g. `model.save('my_model.keras')` or `keras.saving.save_model(model, 'my_model.keras')`. \n"
     ]
    },
    {
     "name": "stdout",
     "output_type": "stream",
     "text": [
      "\u001B[1m26/26\u001B[0m \u001B[32m━━━━━━━━━━━━━━━━━━━━\u001B[0m\u001B[37m\u001B[0m \u001B[1m49s\u001B[0m 2s/step - accuracy: 0.7132 - loss: 0.9701 - val_accuracy: 0.8182 - val_loss: 0.6299 - learning_rate: 0.0010\n",
      "Epoch 8/10\n",
      "\u001B[1m26/26\u001B[0m \u001B[32m━━━━━━━━━━━━━━━━━━━━\u001B[0m\u001B[37m\u001B[0m \u001B[1m0s\u001B[0m 2s/step - accuracy: 0.7143 - loss: 0.9178"
     ]
    },
    {
     "name": "stderr",
     "output_type": "stream",
     "text": [
      "WARNING:absl:You are saving your model as an HDF5 file via `model.save()` or `keras.saving.save_model(model)`. This file format is considered legacy. We recommend using instead the native Keras format, e.g. `model.save('my_model.keras')` or `keras.saving.save_model(model, 'my_model.keras')`. \n"
     ]
    },
    {
     "name": "stdout",
     "output_type": "stream",
     "text": [
      "\u001B[1m26/26\u001B[0m \u001B[32m━━━━━━━━━━━━━━━━━━━━\u001B[0m\u001B[37m\u001B[0m \u001B[1m54s\u001B[0m 2s/step - accuracy: 0.7146 - loss: 0.9174 - val_accuracy: 0.8373 - val_loss: 0.5666 - learning_rate: 0.0010\n",
      "Epoch 9/10\n",
      "\u001B[1m26/26\u001B[0m \u001B[32m━━━━━━━━━━━━━━━━━━━━\u001B[0m\u001B[37m\u001B[0m \u001B[1m40s\u001B[0m 2s/step - accuracy: 0.7372 - loss: 0.8330 - val_accuracy: 0.8469 - val_loss: 0.6128 - learning_rate: 0.0010\n",
      "Epoch 10/10\n",
      "\u001B[1m26/26\u001B[0m \u001B[32m━━━━━━━━━━━━━━━━━━━━\u001B[0m\u001B[37m\u001B[0m \u001B[1m0s\u001B[0m 1s/step - accuracy: 0.7375 - loss: 0.8076"
     ]
    },
    {
     "name": "stderr",
     "output_type": "stream",
     "text": [
      "WARNING:absl:You are saving your model as an HDF5 file via `model.save()` or `keras.saving.save_model(model)`. This file format is considered legacy. We recommend using instead the native Keras format, e.g. `model.save('my_model.keras')` or `keras.saving.save_model(model, 'my_model.keras')`. \n"
     ]
    },
    {
     "name": "stdout",
     "output_type": "stream",
     "text": [
      "\u001B[1m26/26\u001B[0m \u001B[32m━━━━━━━━━━━━━━━━━━━━\u001B[0m\u001B[37m\u001B[0m \u001B[1m41s\u001B[0m 2s/step - accuracy: 0.7376 - loss: 0.8071 - val_accuracy: 0.8421 - val_loss: 0.5321 - learning_rate: 0.0010\n"
     ]
    }
   ],
   "source": [
    "import tensorflow as tf\n",
    "from tensorflow.keras import layers, models\n",
    "from tensorflow.keras.callbacks import EarlyStopping, ModelCheckpoint, ReduceLROnPlateau\n",
    "import numpy as np\n",
    "import pandas as pd\n",
    "from sklearn.model_selection import train_test_split\n",
    "import pickle\n",
    "\n",
    "def create_hybrid_model(num_classes=5):\n",
    "    \"\"\"Create a model that combines CNN and biomechanical features\"\"\"\n",
    "    # Image branch (CNN)\n",
    "    image_input = layers.Input(shape=(224, 224, 3), name='image_input')\n",
    "    \n",
    "    x = layers.Conv2D(32, (3, 3), activation='relu')(image_input)\n",
    "    x = layers.MaxPooling2D((2, 2))(x)\n",
    "    x = layers.Conv2D(64, (3, 3), activation='relu')(x)\n",
    "    x = layers.MaxPooling2D((2, 2))(x)\n",
    "    x = layers.Conv2D(128, (3, 3), activation='relu')(x)\n",
    "    x = layers.GlobalAveragePooling2D()(x)\n",
    "    \n",
    "    # Angle branch\n",
    "    angle_input = layers.Input(shape=(9,), name='angle_input')\n",
    "    a = layers.Dense(32, activation='relu')(angle_input)\n",
    "    \n",
    "    # Combined features\n",
    "    combined = layers.concatenate([x, a])\n",
    "    \n",
    "    # Classifier\n",
    "    z = layers.Dense(128, activation='relu')(combined)\n",
    "    z = layers.Dropout(0.5)(z)\n",
    "    output = layers.Dense(num_classes, activation='softmax')(z)\n",
    "    \n",
    "    return models.Model(inputs=[image_input, angle_input], outputs=output)\n",
    "\n",
    "def prepare_data(df):\n",
    "    \"\"\"Prepare data for training\"\"\"\n",
    "    # Convert images to array\n",
    "    X_images = np.array([x for x in df['image']])\n",
    "    \n",
    "    # Convert angles to array\n",
    "    X_angles = np.array([x for x in df['angles']])\n",
    "    \n",
    "    # Convert labels to one-hot\n",
    "    class_to_idx = {cls: i for i, cls in enumerate(df['class'].unique())}\n",
    "    y = tf.keras.utils.to_categorical(df['class'].map(class_to_idx))\n",
    "    \n",
    "    return X_images, X_angles, y, class_to_idx\n",
    "\n",
    "def train_model():\n",
    "    # Load processed data\n",
    "    df = pd.read_pickle('yoga_dataset_processed.pkl')\n",
    "    \n",
    "    # Prepare data\n",
    "    X_img, X_ang, y, class_to_idx = prepare_data(df)\n",
    "    \n",
    "    # Split data - USE THE SAME VARIABLE NAMES RETURNED FROM prepare_data()\n",
    "    (X_img_train, X_img_val, \n",
    "     X_ang_train, X_ang_val,\n",
    "     y_train, y_val) = train_test_split(X_img, X_ang, y, test_size=0.2)\n",
    "    \n",
    "    # Create model\n",
    "    model = create_hybrid_model(num_classes=len(class_to_idx))\n",
    "    \n",
    "    # Compile\n",
    "    model.compile(\n",
    "        optimizer='adam',\n",
    "        loss='categorical_crossentropy',\n",
    "        metrics=['accuracy']\n",
    "    )\n",
    "    \n",
    "    # Define callbacks\n",
    "    training_callbacks = [\n",
    "        EarlyStopping(patience=5, restore_best_weights=True),\n",
    "        ModelCheckpoint('best_model.h5', save_best_only=True),\n",
    "        ReduceLROnPlateau(factor=0.1, patience=3)\n",
    "    ]\n",
    "    \n",
    "    # Train\n",
    "    history = model.fit(\n",
    "        x={'image_input': X_img_train, 'angle_input': X_ang_train},\n",
    "        y=y_train,\n",
    "        validation_data=({'image_input': X_img_val, 'angle_input': X_ang_val}, y_val),\n",
    "        epochs=10,\n",
    "        batch_size=32,\n",
    "        callbacks=training_callbacks\n",
    "    )\n",
    "    \n",
    "    # Save class mapping\n",
    "    idx_to_class = {v:k for k,v in class_to_idx.items()}  # Reverse mapping\n",
    "    with open('class_mapping.pkl', 'wb') as f:\n",
    "        pickle.dump(idx_to_class, f)  # New: {0:'downdog', 1:'warrior'}\n",
    "    \n",
    "    return model, history\n",
    "\n",
    "if __name__ == \"__main__\":\n",
    "    model, history = train_model()"
   ]
  },
  {
   "cell_type": "code",
   "execution_count": 3,
   "id": "2db6573a-1a06-4a52-b66b-be48b909ecac",
   "metadata": {},
   "outputs": [
    {
     "name": "stdout",
     "output_type": "stream",
     "text": [
      "Collecting pyttsx3\n",
      "  Downloading pyttsx3-2.98-py3-none-any.whl.metadata (3.8 kB)\n",
      "Collecting comtypes (from pyttsx3)\n",
      "  Downloading comtypes-1.4.11-py3-none-any.whl.metadata (7.2 kB)\n",
      "Collecting pypiwin32 (from pyttsx3)\n",
      "  Downloading pypiwin32-223-py3-none-any.whl.metadata (236 bytes)\n",
      "Requirement already satisfied: pywin32 in c:\\users\\gheri\\anaconda3\\lib\\site-packages (from pyttsx3) (305.1)\n",
      "Downloading pyttsx3-2.98-py3-none-any.whl (34 kB)\n",
      "Downloading comtypes-1.4.11-py3-none-any.whl (246 kB)\n",
      "Downloading pypiwin32-223-py3-none-any.whl (1.7 kB)\n",
      "Installing collected packages: pypiwin32, comtypes, pyttsx3\n",
      "Successfully installed comtypes-1.4.11 pypiwin32-223 pyttsx3-2.98\n"
     ]
    },
    {
     "name": "stderr",
     "output_type": "stream",
     "text": [
      "ERROR: Could not find a version that satisfies the requirement espeak (from versions: none)\n",
      "ERROR: No matching distribution found for espeak\n"
     ]
    }
   ],
   "source": [
    "\n",
    "!pip install pyttsx3\n",
    "!pip install espeak  \n"
   ]
  },
  {
   "cell_type": "code",
   "execution_count": 3,
   "id": "40059ca4-4093-49e3-aad2-ddee760c6aad",
   "metadata": {
    "scrolled": true
   },
   "outputs": [
    {
     "name": "stderr",
     "output_type": "stream",
     "text": [
      "WARNING:absl:Compiled the loaded model, but the compiled metrics have yet to be built. `model.compile_metrics` will be empty until you train or evaluate the model.\n"
     ]
    }
   ],
   "source": [
    "import cv2\n",
    "import numpy as np\n",
    "import tensorflow as tf\n",
    "import mediapipe as mp\n",
    "import pickle\n",
    "import pyttsx3\n",
    "import time\n",
    "import threading\n",
    "\n",
    "# Initialize MediaPipe components\n",
    "mp_drawing = mp.solutions.drawing_utils\n",
    "mp_pose = mp.solutions.pose\n",
    "\n",
    "# Configure TensorFlow for GPU\n",
    "gpus = tf.config.experimental.list_physical_devices('GPU')\n",
    "if gpus:\n",
    "    try:\n",
    "        for gpu in gpus:\n",
    "            tf.config.experimental.set_memory_growth(gpu, True)\n",
    "    except RuntimeError as e:\n",
    "        print(e)\n",
    "\n",
    "# MediaPipe Pose Configuration\n",
    "pose = mp_pose.Pose(\n",
    "    static_image_mode=False,\n",
    "    model_complexity=1,\n",
    "    smooth_landmarks=True,\n",
    "    min_detection_confidence=0.7,\n",
    "    min_tracking_confidence=0.7\n",
    ")\n",
    "\n",
    "# Threaded Voice Engine\n",
    "class VoiceCoach:\n",
    "    def __init__(self):\n",
    "        self.engine = pyttsx3.init()\n",
    "        self.engine.setProperty('rate', 160)\n",
    "        self.lock = threading.Lock()\n",
    "        \n",
    "    def speak(self, msg):\n",
    "        def run():\n",
    "            with self.lock:\n",
    "                self.engine.say(msg)\n",
    "                self.engine.runAndWait()\n",
    "        threading.Thread(target=run).start()\n",
    "\n",
    "voice = VoiceCoach()\n",
    "\n",
    "# Core Functions\n",
    "def calculate_angle(a, b, c):\n",
    "    a = np.array(a)\n",
    "    b = np.array(b)\n",
    "    c = np.array(c)\n",
    "    \n",
    "    radians = np.arctan2(c[1]-b[1], c[0]-b[0]) - np.arctan2(a[1]-b[1], a[0]-b[0])\n",
    "    angle = np.abs(radians*180.0/np.pi)\n",
    "    \n",
    "    if angle > 180.0:\n",
    "        angle = 360-angle\n",
    "        \n",
    "    return angle\n",
    "\n",
    "def get_angles(landmarks, frame_shape):\n",
    "    points = {}\n",
    "    indices = [11,12,13,14,15,16,23,24,25,26,27,28]  # Shoulders, elbows, wrists, hips, knees, ankles\n",
    "    \n",
    "    for idx in indices:\n",
    "        landmark = landmarks.landmark[idx]\n",
    "        points[idx] = [landmark.x * frame_shape[1], landmark.y * frame_shape[0]]\n",
    "    \n",
    "    try:\n",
    "        angles = np.array([\n",
    "            calculate_angle(points[11], points[13], points[15]),  # Left elbow\n",
    "            calculate_angle(points[12], points[14], points[16]),  # Right elbow\n",
    "            calculate_angle(points[13], points[11], points[23]),  # Left shoulder\n",
    "            calculate_angle(points[14], points[12], points[24]),  # Right shoulder\n",
    "            calculate_angle(points[11], points[23], points[25]),  # Left hip\n",
    "            calculate_angle(points[12], points[24], points[26]),  # Right hip\n",
    "            calculate_angle(points[23], points[25], points[27]),  # Left knee\n",
    "            calculate_angle(points[24], points[26], points[28]),  # Right knee\n",
    "            calculate_angle(points[11], points[23], points[27])   # Spine\n",
    "        ])\n",
    "        return points, angles\n",
    "    except KeyError as e:\n",
    "        print(f\"Missing landmark: {e}\")\n",
    "        return None, None\n",
    "\n",
    "def predict_pose(model, img_input, angle_input, idx_to_class):\n",
    "    pred = model.predict({\n",
    "        'image_input': np.expand_dims(img_input, axis=0),\n",
    "        'angle_input': np.expand_dims(angle_input, axis=0)\n",
    "    }, verbose=0)\n",
    "    return idx_to_class[np.argmax(pred)], np.max(pred)\n",
    "\n",
    "def get_feedback(pose_name, angles, confidence):\n",
    "    if angles is None:\n",
    "        return [\"Can't detect all body points\"]\n",
    "    \n",
    "    if confidence > 0.95:\n",
    "        return [\"Perfect! Keep going\"]\n",
    "    \n",
    "    feedback = []\n",
    "    \n",
    "    if pose_name == \"warrior2\":\n",
    "        if angles[6] < 80: feedback.append(\"Bend front knee more\")\n",
    "        elif angles[6] > 100: feedback.append(\"Reduce knee bend\")\n",
    "        if angles[7] < 170: feedback.append(\"Straighten back leg\")\n",
    "    \n",
    "    elif pose_name == \"tree\":\n",
    "        if angles[7] < 170: feedback.append(\"Straighten standing leg\")\n",
    "        if angles[6] > 110: feedback.append(\"Bring knee inward\")\n",
    "    \n",
    "    elif pose_name == \"goddess\":\n",
    "        if angles[6] > 120: feedback.append(\"Sink deeper into squat\")\n",
    "        if angles[8] < 160: feedback.append(\"Tuck pelvis\")\n",
    "    \n",
    "    elif pose_name == \"downdog\":\n",
    "        if angles[0] > 170: feedback.append(\"Microbend elbows\")\n",
    "        if angles[8] < 160: feedback.append(\"Lift hips higher\")\n",
    "    \n",
    "    elif pose_name == \"plank\":\n",
    "        if angles[8] < 160: feedback.append(\"Straighten body line\")\n",
    "        if angles[0] > 170: feedback.append(\"Soften elbows\")\n",
    "    \n",
    "    return feedback[:1] if feedback else [\"Adjust your pose\"]\n",
    "\n",
    "# Main Application\n",
    "def main():\n",
    "    # Load model\n",
    "    model = tf.keras.models.load_model('best_model.h5')\n",
    "    with open('class_mapping.pkl', 'rb') as f:\n",
    "        idx_to_class = pickle.load(f)\n",
    "    \n",
    "    cap = cv2.VideoCapture(0)\n",
    "    cap.set(cv2.CAP_PROP_FRAME_WIDTH, 1280)\n",
    "    cap.set(cv2.CAP_PROP_FRAME_HEIGHT, 720)\n",
    "    \n",
    "    last_feedback = time.time()\n",
    "    prev_pose = None\n",
    "    \n",
    "    while cap.isOpened():\n",
    "        ret, frame = cap.read()\n",
    "        if not ret:\n",
    "            break\n",
    "        \n",
    "        # Process frame\n",
    "        rgb = cv2.cvtColor(frame, cv2.COLOR_BGR2RGB)\n",
    "        results = pose.process(rgb)\n",
    "        \n",
    "        if results.pose_landmarks:\n",
    "            points, angles = get_angles(results.pose_landmarks, frame.shape)\n",
    "            \n",
    "            if angles is not None:\n",
    "                img_input = cv2.resize(rgb, (224,224))/255.0\n",
    "                pose_name, confidence = predict_pose(model, img_input, angles, idx_to_class)\n",
    "                \n",
    "                # Display angles for debugging\n",
    "                angle_text = \" \".join([f\"{a:.1f}°\" for a in angles])\n",
    "                cv2.putText(frame, angle_text, (30, 100), \n",
    "                           cv2.FONT_HERSHEY_SIMPLEX, 0.7, (255,255,255), 2)\n",
    "                \n",
    "                # Give feedback periodically\n",
    "                if time.time() - last_feedback > 3:\n",
    "                    feedback = get_feedback(pose_name, angles, confidence)\n",
    "                    if feedback:\n",
    "                        voice.speak(feedback[0])\n",
    "                        cv2.putText(frame, feedback[0], (30,50), \n",
    "                                   cv2.FONT_HERSHEY_SIMPLEX, 1.0, (0,0,255), 2)\n",
    "                        last_feedback = time.time()\n",
    "                \n",
    "                # Draw landmarks\n",
    "                mp_drawing.draw_landmarks(\n",
    "                    frame, results.pose_landmarks, mp_pose.POSE_CONNECTIONS,\n",
    "                    landmark_drawing_spec=mp_drawing.DrawingSpec(color=(0,255,0), thickness=2),\n",
    "                    connection_drawing_spec=mp_drawing.DrawingSpec(color=(255,0,0), thickness=2)\n",
    "                )\n",
    "                \n",
    "                # Display pose info\n",
    "                cv2.putText(frame, f\"{pose_name} ({confidence:.2f})\", (30,30), \n",
    "                           cv2.FONT_HERSHEY_SIMPLEX, 1.0, (0,255,0), 2)\n",
    "        \n",
    "        cv2.imshow('Yoga Coach (Q to quit)', frame)\n",
    "        if cv2.waitKey(1) & 0xFF == ord('q'):\n",
    "            break\n",
    "    \n",
    "    cap.release()\n",
    "    cv2.destroyAllWindows()\n",
    "\n",
    "if __name__ == \"__main__\":\n",
    "    main()"
   ]
  },
  {
   "cell_type": "code",
   "execution_count": null,
   "id": "905be27b-f59e-4b9d-8f74-b75083f806c0",
   "metadata": {},
   "outputs": [],
   "source": []
  },
  {
   "cell_type": "code",
   "execution_count": null,
   "id": "21b38e41-e95d-4ca2-b665-9eb9ffeeaf8e",
   "metadata": {},
   "outputs": [],
   "source": []
  },
  {
   "cell_type": "code",
   "execution_count": null,
   "id": "c1915158-8a9e-446c-a6b9-3b8c6a63c37e",
   "metadata": {},
   "outputs": [],
   "source": []
  }
 ],
 "metadata": {
  "kernelspec": {
   "display_name": "Python [conda env:base] *",
   "language": "python",
   "name": "conda-base-py"
  },
  "language_info": {
   "codemirror_mode": {
    "name": "ipython",
    "version": 3
   },
   "file_extension": ".py",
   "mimetype": "text/x-python",
   "name": "python",
   "nbconvert_exporter": "python",
   "pygments_lexer": "ipython3",
   "version": "3.12.7"
  }
 },
 "nbformat": 4,
 "nbformat_minor": 5
}
